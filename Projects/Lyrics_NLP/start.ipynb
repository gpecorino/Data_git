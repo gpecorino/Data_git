{
 "cells": [
  {
   "cell_type": "code",
   "execution_count": 66,
   "id": "db10af5e",
   "metadata": {},
   "outputs": [],
   "source": [
    "#libraries\n",
    "from bs4 import BeautifulSoup, element\n",
    "import urllib\n",
    "import requests\n",
    "import pandas as pd\n",
    "import numpy as np\n",
    "import lyricsgenius\n",
    "import re\n"
   ]
  },
  {
   "cell_type": "code",
   "execution_count": 67,
   "id": "eac73db4",
   "metadata": {},
   "outputs": [
    {
     "name": "stdout",
     "output_type": "stream",
     "text": [
      "Searching for \"Blinding Lights\" by The Weeknd...\n",
      "Done.\n",
      "249 ContributorsTranslationsTürkçeSvenskaEspañolSlovenčinaРусский (Russian)PortuguêsPolskiNorsk日本語 (Japanese)Italianoעברית (Hebrew)DeutschFrançaisفارسیNederlandsDanskShqipالعربيةsrpskiBlinding Lights Lyrics“Blinding Lights” is the second single to The Weeknd’s fourth studio album After Hours, following the record’s lead single “Heartless,” which released two days prior on November 27, 2019. The track finds Abel… Read More [Intro]\n",
      "Yeah\n",
      "\n",
      "[Verse 1]\n",
      "I've been tryna call\n",
      "I've been on my own for long enough\n",
      "Maybe you can show me how to love, maybe\n",
      "I'm goin' through withdrawals\n",
      "You don't even have to do too much\n",
      "You can turn me on with just a touch, baby\n",
      "\n",
      "[Pre-Chorus]\n",
      "I look around and\n",
      "Sin City's cold and empty (Oh)\n",
      "No one's around to judge me (Oh)\n",
      "I can't see clearly when you're gone\n",
      "\n",
      "[Chorus]\n",
      "I said, ooh, I'm blinded by the lights\n",
      "No, I can't sleep until I feel your touch\n",
      "I said, ooh, I'm drowning in the night\n",
      "Oh, when I'm like this, you're the one I trust\n",
      "Hey, hey, hey\n",
      "\n",
      "[Verse 2]\n",
      "I'm running out of time\n",
      "'Cause I can see the sun light up the sky\n",
      "So I hit the road in overdrive, baby, oh\n",
      "\n",
      "\n",
      "[Pre-Chorus]\n",
      "The city's cold and empty (Oh)\n",
      "No one's around to judge me (Oh)\n",
      "I can't see clearly when you're gone\n",
      "\n",
      "[Chorus]\n",
      "I said, ooh, I'm blinded by the lights\n",
      "No, I can't sleep until I feel your touch\n",
      "I said, ooh, I'm drowning in the night\n",
      "Oh, when I'm like this, you're the one I trust\n",
      "\n",
      "[Bridge]\n",
      "I'm just calling back to let you know (Back to let you know)\n",
      "I could never say it on the phone (Say it on the phone)\n",
      "Will never let you go this time (Ooh)\n",
      "\n",
      "[Chorus]\n",
      "I said, ooh, I'm blinded by the lights\n",
      "No, I can't sleep until I feel your touch\n",
      "Hey, hey, hey\n",
      "\n",
      "[Post-Chorus]\n",
      "Hey, hey, hey\n",
      "\n",
      "[Outro]\n",
      "I said, ooh, I'm blinded by the lights\n",
      "No, I can't sleep until I feel your touch\n"
     ]
    },
    {
     "name": "stderr",
     "output_type": "stream",
     "text": [
      "C:\\Users\\Monado\\AppData\\Roaming\\Python\\Python312\\site-packages\\lyricsgenius\\genius.py:468: FutureWarning: The constructor signature will change in a future version. It will change to Song(lyrics, body) instead of Song(client, json_dict, lyrics).\n",
      "  song = Song(self, song_info, lyrics)\n"
     ]
    }
   ],
   "source": [
    "genius = lyricsgenius.Genius(\"rPVs-pFT7GhBfTxhpu-ISnNCcvCsbRt8wIwhkkEXovrADgSBQfkndQW7Ge22R5Ts\")\n",
    "song = genius.search_song(\"Blinding Lights\", \"The Weeknd\")\n",
    "lyrics = song.lyrics\n",
    "print(lyrics)"
   ]
  },
  {
   "cell_type": "code",
   "execution_count": 68,
   "id": "4342dbe8",
   "metadata": {},
   "outputs": [],
   "source": [
    "#Data Cleaning/Processing\n",
    "\n",
    "def clean_lyrics(raw_lyrics):\n",
    "    #Get rid of information shoved at beginning of string leaving only the lyrics of the song\n",
    "    starter = '[Intro]'\n",
    "    position = raw_lyrics.find(starter)\n",
    "    processed_lyrics = raw_lyrics[position+7:]\n",
    "\n",
    "    # Remove section headers like [Chorus], [Verse 1], etc.\n",
    "    lyrics = re.sub(r\"\\[.*?\\]\", \"\", processed_lyrics)\n",
    "\n",
    "    # Remove extra whitespace, newlines\n",
    "    lyrics = re.sub(r\"\\n+\", \" \", lyrics)\n",
    "    lyrics = re.sub(r\"\\s+\", \" \", lyrics)\n",
    "\n",
    "    # Optionally remove punctuation\n",
    "    lyrics = re.sub(r\"[^\\w\\s']\", \"\", lyrics)\n",
    "\n",
    "    # Lowercase\n",
    "    lyrics = lyrics.lower()\n",
    "\n",
    "    return lyrics.strip()\n"
   ]
  },
  {
   "cell_type": "code",
   "execution_count": null,
   "id": "301066cd",
   "metadata": {},
   "outputs": [
    {
     "data": {
      "text/plain": [
       "\"yeah i've been tryna call i've been on my own for long enough maybe you can show me how to love maybe i'm goin' through withdrawals you don't even have to do too much you can turn me on with just a touch baby i look around and sin city's cold and empty oh no one's around to judge me oh i can't see clearly when you're gone i said ooh i'm blinded by the lights no i can't sleep until i feel your touch i said ooh i'm drowning in the night oh when i'm like this you're the one i trust hey hey hey i'm running out of time 'cause i can see the sun light up the sky so i hit the road in overdrive baby oh the city's cold and empty oh no one's around to judge me oh i can't see clearly when you're gone i said ooh i'm blinded by the lights no i can't sleep until i feel your touch i said ooh i'm drowning in the night oh when i'm like this you're the one i trust i'm just calling back to let you know back to let you know i could never say it on the phone say it on the phone will never let you go this time ooh i said ooh i'm blinded by the lights no i can't sleep until i feel your touch hey hey hey hey hey hey i said ooh i'm blinded by the lights no i can't sleep until i feel your touch\""
      ]
     },
     "execution_count": 69,
     "metadata": {},
     "output_type": "execute_result"
    }
   ],
   "source": [
    "cleaned_lyrics = clean_lyrics(lyrics)"
   ]
  },
  {
   "cell_type": "code",
   "execution_count": null,
   "id": "3698666b",
   "metadata": {},
   "outputs": [
    {
     "name": "stdout",
     "output_type": "stream",
     "text": [
      "yeah i've been tryna call i've been on my own for long enough maybe you can show me how to love maybe i'm goin' through withdrawals you don't even have to do too much you can turn me on with just a touch baby i look around and sin city's cold and empty oh no one's around to judge me oh i can't see clearly when you're gone i said ooh i'm blinded by the lights no i can't sleep until i feel your touch i said ooh i'm drowning in the night oh when i'm like this you're the one i trust hey hey hey i'm running out of time 'cause i can see the sun light up the sky so i hit the road in overdrive baby oh the city's cold and empty oh no one's around to judge me oh i can't see clearly when you're gone i said ooh i'm blinded by the lights no i can't sleep until i feel your touch i said ooh i'm drowning in the night oh when i'm like this you're the one i trust i'm just calling back to let you know back to let you know i could never say it on the phone say it on the phone will never let you go this time ooh i said ooh i'm blinded by the lights no i can't sleep until i feel your touch hey hey hey hey hey hey i said ooh i'm blinded by the lights no i can't sleep until i feel your touch\n"
     ]
    }
   ],
   "source": []
  },
  {
   "cell_type": "code",
   "execution_count": null,
   "id": "bc740fdc",
   "metadata": {},
   "outputs": [],
   "source": []
  },
  {
   "cell_type": "code",
   "execution_count": null,
   "id": "435334b4",
   "metadata": {},
   "outputs": [],
   "source": []
  },
  {
   "cell_type": "code",
   "execution_count": null,
   "id": "412c60d3",
   "metadata": {},
   "outputs": [],
   "source": []
  }
 ],
 "metadata": {
  "kernelspec": {
   "display_name": "Python 3",
   "language": "python",
   "name": "python3"
  },
  "language_info": {
   "codemirror_mode": {
    "name": "ipython",
    "version": 3
   },
   "file_extension": ".py",
   "mimetype": "text/x-python",
   "name": "python",
   "nbconvert_exporter": "python",
   "pygments_lexer": "ipython3",
   "version": "3.12.0"
  }
 },
 "nbformat": 4,
 "nbformat_minor": 5
}
