{
 "cells": [
  {
   "cell_type": "code",
   "execution_count": 111,
   "id": "db10af5e",
   "metadata": {},
   "outputs": [],
   "source": [
    "#libraries\n",
    "from bs4 import BeautifulSoup, element\n",
    "import urllib\n",
    "import requests\n",
    "import pandas as pd\n",
    "import numpy as np\n",
    "import lyricsgenius\n",
    "import re\n",
    "\n",
    "#NLP stuff\n",
    "#Tokenization\n",
    "from nltk.tokenize import word_tokenize, sent_tokenize\n",
    "from nltk.stem import WordNetLemmatizer\n",
    "from nltk.corpus import stopwords #look into if I should keep this or not\n",
    "from nltk.sentiment import SentimentIntensityAnalyzer\n",
    "\n",
    "from sklearn.feature_extraction.text import TfidfVectorizer\n"
   ]
  },
  {
   "cell_type": "code",
   "execution_count": 148,
   "id": "17154694",
   "metadata": {},
   "outputs": [],
   "source": [
    "#store lyrics from song in this list, for now it will start fresh every time\n",
    "lyric_list = []"
   ]
  },
  {
   "cell_type": "code",
   "execution_count": 179,
   "id": "eac73db4",
   "metadata": {},
   "outputs": [
    {
     "name": "stdout",
     "output_type": "stream",
     "text": [
      "Searching for \"Fantasy\" by Mariah Carey...\n",
      "Done.\n",
      "53 ContributorsFantasy LyricsThe lead single for Mariah’s Daydream album, this R&B song topped the US charts for eight consecutive weeks, and gained strong success overseas as well. The song was also received positively by critics, who… Read More [Intro]\n",
      "Sha-do-do-do-do\n",
      "Sha-do-do-do-do-do-do-do-do\n",
      "Sha-do-do-do-do\n",
      "Sha-do-do-do-do-do-do-do-do\n",
      "Sha-do-do-do-do\n",
      "Sha-do-do-do-do-do-do-do-do\n",
      "Sha-do-do-do-do\n",
      "Sha-do-do-do-do-do-do-do-do\n",
      "\n",
      "[Verse 1]\n",
      "Oh, when you walk by every night\n",
      "Talking sweet and looking fine\n",
      "I get kind of hectic inside\n",
      "Mmm, baby, I'm so into you\n",
      "Darling, if you only knew\n",
      "All the things that flow through my mind\n",
      "\n",
      "[Chorus]\n",
      "But it's just a sweet, sweet fantasy, baby\n",
      "When I close my eyes, you come and take me\n",
      "On and on and on, it's so deep in my daydreams\n",
      "But it's just a sweet, sweet fantasy, baby (Fantasy)\n",
      "(And I want you so badly)\n",
      "\n",
      "[Post-Chorus]\n",
      "Sha-do-do-do-do\n",
      "Sha-do-do-do-do-do-do-do-do\n",
      "Sha-do-do-do-do\n",
      "Sha-do-do-do-do-do-do-do-do\n",
      "Sha-do-do-do-do\n",
      "Sha-do-do-do-do-do-do-do-do\n",
      "Sha-do-do-do-do\n",
      "Sha-do-do-do-do-do-do-do-do\n",
      "\n",
      "\n",
      "[Verse 2]\n",
      "Images of rapture\n",
      "Creep into me slowly\n",
      "As you're going to my head\n",
      "And my heart beats faster\n",
      "When you take me over\n",
      "Time and time and time again\n",
      "\n",
      "[Chorus]\n",
      "But it's just a sweet, sweet fantasy, baby\n",
      "When I close my eyes, you come and take me\n",
      "On and on and on, it's so deep in my daydreams\n",
      "But it's just a sweet, sweet fantasy, baby (Fantasy)\n",
      "Oh, oh, it's just a sweet, sweet fantasy, baby\n",
      "When I close my eyes, you come and take me\n",
      "On and on and on, it's so deep in my daydreams\n",
      "But it's just a sweet, sweet fantasy, baby (Fantasy)\n",
      "\n",
      "[Bridge]\n",
      "I'm in heaven\n",
      "With my boyfriend, my laughing boyfriend\n",
      "There's no beginning and there is no end\n",
      "Feels like I'm dreaming, but I'm not sleeping\n",
      "\n",
      "[Chorus]\n",
      "Oh, it's just a sweet, sweet fantasy, baby\n",
      "When I close my eyes, you come and take me\n",
      "On and on and on, it's so deep in my daydreams\n",
      "But it's just a sweet, sweet fantasy, baby\n",
      "Sweet, sweet fantasy, baby\n",
      "When I close my eyes, you come and take me\n",
      "On and on and on, it's so deep in my daydreams\n",
      "But it's just a sweet, sweet fantasy, baby\n",
      "Sweet, sweet fantasy, baby\n",
      "Sweet, sweet fantasy, baby\n"
     ]
    }
   ],
   "source": [
    "genius = lyricsgenius.Genius(\"rPVs-pFT7GhBfTxhpu-ISnNCcvCsbRt8wIwhkkEXovrADgSBQfkndQW7Ge22R5Ts\")\n",
    "song = genius.search_song(\"Fantasy\", \"Mariah Carey\")\n",
    "lyrics = song.lyrics\n",
    "print(lyrics)"
   ]
  },
  {
   "cell_type": "markdown",
   "id": "1e3eb3de",
   "metadata": {},
   "source": [
    "# Cleaning Lyrics"
   ]
  },
  {
   "cell_type": "code",
   "execution_count": 180,
   "id": "4342dbe8",
   "metadata": {},
   "outputs": [],
   "source": [
    "#Data Cleaning/Processing\n",
    "\n",
    "def clean_lyrics(raw_lyrics):\n",
    "    #Get rid of information shoved at beginning of string leaving only the lyrics of the song\n",
    "    starter = ']' #This always finds the first closed bracket which is always the closing bracket for '[Intro]'\n",
    "    position = raw_lyrics.find(starter)\n",
    "    lyrics = raw_lyrics[position+1:]\n",
    "\n",
    "    # Remove section headers like [Chorus], [Verse 1], etc.\n",
    "    lyrics = re.sub(r\"\\[.*?\\]\", \"\", lyrics)\n",
    "\n",
    "    # Remove extra whitespace, newlines\n",
    "    lyrics = re.sub(r\"\\n+\", \" \", lyrics)\n",
    "    lyrics = re.sub(r\"\\s+\", \" \", lyrics)\n",
    "\n",
    "    # Optionally remove punctuation\n",
    "    lyrics = re.sub(r\"[^\\w\\s']\", \"\", lyrics)\n",
    "\n",
    "    # Lowercase\n",
    "    lyrics = lyrics.lower()\n",
    "\n",
    "    return lyrics\n"
   ]
  },
  {
   "cell_type": "code",
   "execution_count": 181,
   "id": "301066cd",
   "metadata": {},
   "outputs": [
    {
     "name": "stdout",
     "output_type": "stream",
     "text": [
      " shadodododo shadodododododododo shadodododo shadodododododododo shadodododo shadodododododododo shadodododo shadodododododododo oh when you walk by every night talking sweet and looking fine i get kind of hectic inside mmm baby i'm so into you darling if you only knew all the things that flow through my mind but it's just a sweet sweet fantasy baby when i close my eyes you come and take me on and on and on it's so deep in my daydreams but it's just a sweet sweet fantasy baby fantasy and i want you so badly shadodododo shadodododododododo shadodododo shadodododododododo shadodododo shadodododododododo shadodododo shadodododododododo images of rapture creep into me slowly as you're going to my head and my heart beats faster when you take me over time and time and time again but it's just a sweet sweet fantasy baby when i close my eyes you come and take me on and on and on it's so deep in my daydreams but it's just a sweet sweet fantasy baby fantasy oh oh it's just a sweet sweet fantasy baby when i close my eyes you come and take me on and on and on it's so deep in my daydreams but it's just a sweet sweet fantasy baby fantasy i'm in heaven with my boyfriend my laughing boyfriend there's no beginning and there is no end feels like i'm dreaming but i'm not sleeping oh it's just a sweet sweet fantasy baby when i close my eyes you come and take me on and on and on it's so deep in my daydreams but it's just a sweet sweet fantasy baby sweet sweet fantasy baby when i close my eyes you come and take me on and on and on it's so deep in my daydreams but it's just a sweet sweet fantasy baby sweet sweet fantasy baby sweet sweet fantasy baby\n"
     ]
    }
   ],
   "source": [
    "cleaned_lyrics = clean_lyrics(lyrics)\n",
    "print(cleaned_lyrics)"
   ]
  },
  {
   "cell_type": "markdown",
   "id": "61089d8f",
   "metadata": {},
   "source": [
    "# Tokenization/Lemmatization/Filtering stopwords"
   ]
  },
  {
   "cell_type": "code",
   "execution_count": 115,
   "id": "3698666b",
   "metadata": {},
   "outputs": [],
   "source": [
    "# Tokenize into words\n",
    "words = word_tokenize(cleaned_lyrics)\n",
    "\n",
    "# Tokenize into sentences\n",
    "sentences = sent_tokenize(cleaned_lyrics) #this one doesn't do anything "
   ]
  },
  {
   "cell_type": "code",
   "execution_count": 116,
   "id": "bc740fdc",
   "metadata": {},
   "outputs": [
    {
     "name": "stdout",
     "output_type": "stream",
     "text": [
      "['if', 'this', 'world', 'were', 'mine', 'hey', 'roman', 'numeral', 'seven', 'bae', 'drop', 'it', 'like', 'it', \"'s\", 'hot', 'if', 'this', 'world', 'was', 'mine', 'i', \"'d\", 'take', 'your', 'dreams', 'and', 'make', \"'em\", 'multiply', 'if', 'this', 'world', 'was', 'mine', 'i', \"'d\", 'take', 'your', 'enemies', 'in', 'front', 'of', 'god', 'introduce', \"'em\", 'to', 'that', 'light', 'hit', 'them', 'strictly', 'with', 'that', 'fire', 'fahfah', 'fahfahfah', 'fahfah', 'fah', 'hey', 'roman', 'numeral', 'seven', 'bae', 'drop', 'it', 'like', 'it', \"'s\", 'hot', 'if', 'this', 'world', 'was', 'mine', 'i', \"'d\", 'take', 'your', 'dreams', 'and', 'make', \"'em\", 'multiply', 'if', 'this', 'world', 'was', 'mine', 'i', \"'d\", 'take', 'your', 'enemies', 'in', 'front', 'of', 'god', 'introduce', \"'em\", 'to', 'that', 'light', 'hit', 'them', 'strictly', 'with', 'that', 'fire', 'it', \"'s\", 'a', 'vibe', 'do', 'your', 'dance', 'let', \"'em\", 'watch', 'she', 'a', 'fan', 'he', 'a', 'flop', 'they', 'just', 'wan', 'na', 'kumbaya', 'nah', 'in', 'this', 'world', 'concrete', 'flowers', 'grow', 'heartache', 'she', 'only', 'doin', \"'\", 'what', 'she', 'know', 'weekends', 'get', 'it', 'poppin', \"'\", 'on', 'the', 'low', 'better', 'days', 'comin', \"'\", 'for', 'sure', 'if', 'this', 'world', 'were', 'if', 'it', 'was', 'up', 'to', 'me', 'i', 'would', \"n't\", 'give', 'these', 'nobodies', 'no', 'sympathy', 'i', \"'d\", 'take', 'away', 'the', 'pain', 'i', \"'d\", 'give', 'you', 'everything', 'i', 'just', 'wan', 'na', 'see', 'you', 'win', 'wan', 'na', 'see', 'if', 'this', 'world', 'were', 'mine', 'it', 'go', 'in', 'when', 'you', 'out', 'ride', 'it', 'do', 'it', 'real', 'slow', 'slide', 'baby', 'you', 'a', 'star', 'strike', 'pose', 'when', 'i', \"'m\", 'when', 'you', 'with', 'you', 'with', 'me', 'everything', 'goes', 'slow', 'come', 'and', 'put', 'that', 'put', 'that', 'on', 'my', 'on', 'my', 'titi', 'soul', 'soul', \"'rari\", 'red', 'crown', 'stack', 'wrist', 'stay', 'froze', 'really', 'drip', 'tell', 'me', 'pound', 'if', 'you', 'on', 'the', 'way', 'home', 'love', 'me', 'in', 'this', 'world', 'concrete', 'flowers', 'grow', 'heartache', 'she', 'only', 'doin', \"'\", 'what', 'she', 'know', 'weekends', 'get', 'it', 'poppin', \"'\", 'on', 'the', 'low', 'better', 'days', 'comin', \"'\", 'for', 'sure', 'if', 'this', 'world', 'were', 'if', 'it', 'was', 'up', 'to', 'me', 'i', 'would', \"n't\", 'give', 'these', 'nobodies', 'no', 'sympathy', 'i', \"'d\", 'take', 'away', 'the', 'pain', 'i', \"'d\", 'give', 'you', 'everything', 'i', 'just', 'wan', 'na', 'see', 'you', 'win', 'wan', 'na', 'see', 'if', 'this', 'world', 'were', 'mine', 'i', 'ca', \"n't\", 'lie', 'i', 'trust', 'you', 'i', 'love', 'you', 'i', 'wo', \"n't\", 'waste', 'your', 'time', 'i', 'turn', 'it', 'off', 'just', 'so', 'i', 'can', 'turn', 'you', 'on', \"i'ma\", 'make', 'you', 'say', 'it', 'loud', 'i', \"'m\", 'not', 'even', 'trippin', \"'\", 'i', 'wo', \"n't\", 'stress', 'you', 'out', 'i', 'might', 'even', 'settle', 'down', 'for', 'you', \"i'ma\", 'show', 'you', 'i', \"'m\", 'a', 'pro', \"i'ma\", 'take', 'my', 'time', 'and', 'turn', 'it', 'off', 'just', 'so', 'i', 'can', 'turn', 'you', 'on', 'baby', 'weekends', 'get', 'it', 'poppin', \"'\", 'on', 'the', 'low', 'better', 'days', 'comin', \"'\", 'for', 'sure', 'i', 'know', 'you', \"'re\", 'comin', \"'\", 'for', 'better', 'days', 'if', 'this', 'world', 'were', 'mine']\n"
     ]
    }
   ],
   "source": [
    "print(words)"
   ]
  },
  {
   "cell_type": "code",
   "execution_count": 117,
   "id": "60356eb9",
   "metadata": {},
   "outputs": [],
   "source": [
    "lemmatizer = WordNetLemmatizer()\n",
    "lemmatized_words = [lemmatizer.lemmatize(word) for word in words]"
   ]
  },
  {
   "cell_type": "code",
   "execution_count": 118,
   "id": "69034032",
   "metadata": {},
   "outputs": [
    {
     "name": "stdout",
     "output_type": "stream",
     "text": [
      "['if', 'this', 'world', 'were', 'mine', 'hey', 'roman', 'numeral', 'seven', 'bae', 'drop', 'it', 'like', 'it', \"'s\", 'hot', 'if', 'this', 'world', 'wa', 'mine', 'i', \"'d\", 'take', 'your', 'dream', 'and', 'make', \"'em\", 'multiply', 'if', 'this', 'world', 'wa', 'mine', 'i', \"'d\", 'take', 'your', 'enemy', 'in', 'front', 'of', 'god', 'introduce', \"'em\", 'to', 'that', 'light', 'hit', 'them', 'strictly', 'with', 'that', 'fire', 'fahfah', 'fahfahfah', 'fahfah', 'fah', 'hey', 'roman', 'numeral', 'seven', 'bae', 'drop', 'it', 'like', 'it', \"'s\", 'hot', 'if', 'this', 'world', 'wa', 'mine', 'i', \"'d\", 'take', 'your', 'dream', 'and', 'make', \"'em\", 'multiply', 'if', 'this', 'world', 'wa', 'mine', 'i', \"'d\", 'take', 'your', 'enemy', 'in', 'front', 'of', 'god', 'introduce', \"'em\", 'to', 'that', 'light', 'hit', 'them', 'strictly', 'with', 'that', 'fire', 'it', \"'s\", 'a', 'vibe', 'do', 'your', 'dance', 'let', \"'em\", 'watch', 'she', 'a', 'fan', 'he', 'a', 'flop', 'they', 'just', 'wan', 'na', 'kumbaya', 'nah', 'in', 'this', 'world', 'concrete', 'flower', 'grow', 'heartache', 'she', 'only', 'doin', \"'\", 'what', 'she', 'know', 'weekend', 'get', 'it', 'poppin', \"'\", 'on', 'the', 'low', 'better', 'day', 'comin', \"'\", 'for', 'sure', 'if', 'this', 'world', 'were', 'if', 'it', 'wa', 'up', 'to', 'me', 'i', 'would', \"n't\", 'give', 'these', 'nobody', 'no', 'sympathy', 'i', \"'d\", 'take', 'away', 'the', 'pain', 'i', \"'d\", 'give', 'you', 'everything', 'i', 'just', 'wan', 'na', 'see', 'you', 'win', 'wan', 'na', 'see', 'if', 'this', 'world', 'were', 'mine', 'it', 'go', 'in', 'when', 'you', 'out', 'ride', 'it', 'do', 'it', 'real', 'slow', 'slide', 'baby', 'you', 'a', 'star', 'strike', 'pose', 'when', 'i', \"'m\", 'when', 'you', 'with', 'you', 'with', 'me', 'everything', 'go', 'slow', 'come', 'and', 'put', 'that', 'put', 'that', 'on', 'my', 'on', 'my', 'titi', 'soul', 'soul', \"'rari\", 'red', 'crown', 'stack', 'wrist', 'stay', 'froze', 'really', 'drip', 'tell', 'me', 'pound', 'if', 'you', 'on', 'the', 'way', 'home', 'love', 'me', 'in', 'this', 'world', 'concrete', 'flower', 'grow', 'heartache', 'she', 'only', 'doin', \"'\", 'what', 'she', 'know', 'weekend', 'get', 'it', 'poppin', \"'\", 'on', 'the', 'low', 'better', 'day', 'comin', \"'\", 'for', 'sure', 'if', 'this', 'world', 'were', 'if', 'it', 'wa', 'up', 'to', 'me', 'i', 'would', \"n't\", 'give', 'these', 'nobody', 'no', 'sympathy', 'i', \"'d\", 'take', 'away', 'the', 'pain', 'i', \"'d\", 'give', 'you', 'everything', 'i', 'just', 'wan', 'na', 'see', 'you', 'win', 'wan', 'na', 'see', 'if', 'this', 'world', 'were', 'mine', 'i', 'ca', \"n't\", 'lie', 'i', 'trust', 'you', 'i', 'love', 'you', 'i', 'wo', \"n't\", 'waste', 'your', 'time', 'i', 'turn', 'it', 'off', 'just', 'so', 'i', 'can', 'turn', 'you', 'on', \"i'ma\", 'make', 'you', 'say', 'it', 'loud', 'i', \"'m\", 'not', 'even', 'trippin', \"'\", 'i', 'wo', \"n't\", 'stress', 'you', 'out', 'i', 'might', 'even', 'settle', 'down', 'for', 'you', \"i'ma\", 'show', 'you', 'i', \"'m\", 'a', 'pro', \"i'ma\", 'take', 'my', 'time', 'and', 'turn', 'it', 'off', 'just', 'so', 'i', 'can', 'turn', 'you', 'on', 'baby', 'weekend', 'get', 'it', 'poppin', \"'\", 'on', 'the', 'low', 'better', 'day', 'comin', \"'\", 'for', 'sure', 'i', 'know', 'you', \"'re\", 'comin', \"'\", 'for', 'better', 'day', 'if', 'this', 'world', 'were', 'mine']\n"
     ]
    }
   ],
   "source": [
    "print(lemmatized_words)"
   ]
  },
  {
   "cell_type": "code",
   "execution_count": 119,
   "id": "d2d08b1d",
   "metadata": {},
   "outputs": [],
   "source": [
    "#Consider if I should keep this or not. Lose of some words may affect models effectivness\n",
    "stop_words = set(stopwords.words(\"english\"))\n",
    "\n",
    "filtered_words = [word for word in lemmatized_words if word not in stop_words]"
   ]
  },
  {
   "cell_type": "code",
   "execution_count": 120,
   "id": "710863e8",
   "metadata": {},
   "outputs": [
    {
     "name": "stdout",
     "output_type": "stream",
     "text": [
      "['world', 'mine', 'hey', 'roman', 'numeral', 'seven', 'bae', 'drop', 'like', \"'s\", 'hot', 'world', 'wa', 'mine', \"'d\", 'take', 'dream', 'make', \"'em\", 'multiply', 'world', 'wa', 'mine', \"'d\", 'take', 'enemy', 'front', 'god', 'introduce', \"'em\", 'light', 'hit', 'strictly', 'fire', 'fahfah', 'fahfahfah', 'fahfah', 'fah', 'hey', 'roman', 'numeral', 'seven', 'bae', 'drop', 'like', \"'s\", 'hot', 'world', 'wa', 'mine', \"'d\", 'take', 'dream', 'make', \"'em\", 'multiply', 'world', 'wa', 'mine', \"'d\", 'take', 'enemy', 'front', 'god', 'introduce', \"'em\", 'light', 'hit', 'strictly', 'fire', \"'s\", 'vibe', 'dance', 'let', \"'em\", 'watch', 'fan', 'flop', 'wan', 'na', 'kumbaya', 'nah', 'world', 'concrete', 'flower', 'grow', 'heartache', 'doin', \"'\", 'know', 'weekend', 'get', 'poppin', \"'\", 'low', 'better', 'day', 'comin', \"'\", 'sure', 'world', 'wa', 'would', \"n't\", 'give', 'nobody', 'sympathy', \"'d\", 'take', 'away', 'pain', \"'d\", 'give', 'everything', 'wan', 'na', 'see', 'win', 'wan', 'na', 'see', 'world', 'mine', 'go', 'ride', 'real', 'slow', 'slide', 'baby', 'star', 'strike', 'pose', \"'m\", 'everything', 'go', 'slow', 'come', 'put', 'put', 'titi', 'soul', 'soul', \"'rari\", 'red', 'crown', 'stack', 'wrist', 'stay', 'froze', 'really', 'drip', 'tell', 'pound', 'way', 'home', 'love', 'world', 'concrete', 'flower', 'grow', 'heartache', 'doin', \"'\", 'know', 'weekend', 'get', 'poppin', \"'\", 'low', 'better', 'day', 'comin', \"'\", 'sure', 'world', 'wa', 'would', \"n't\", 'give', 'nobody', 'sympathy', \"'d\", 'take', 'away', 'pain', \"'d\", 'give', 'everything', 'wan', 'na', 'see', 'win', 'wan', 'na', 'see', 'world', 'mine', 'ca', \"n't\", 'lie', 'trust', 'love', 'wo', \"n't\", 'waste', 'time', 'turn', 'turn', \"i'ma\", 'make', 'say', 'loud', \"'m\", 'even', 'trippin', \"'\", 'wo', \"n't\", 'stress', 'might', 'even', 'settle', \"i'ma\", 'show', \"'m\", 'pro', \"i'ma\", 'take', 'time', 'turn', 'turn', 'baby', 'weekend', 'get', 'poppin', \"'\", 'low', 'better', 'day', 'comin', \"'\", 'sure', 'know', \"'re\", 'comin', \"'\", 'better', 'day', 'world', 'mine']\n"
     ]
    }
   ],
   "source": [
    "print(filtered_words)"
   ]
  },
  {
   "cell_type": "markdown",
   "id": "19fd732c",
   "metadata": {},
   "source": [
    "# NLP"
   ]
  },
  {
   "cell_type": "code",
   "execution_count": 182,
   "id": "edc61899",
   "metadata": {},
   "outputs": [],
   "source": [
    "lyric_list.append(cleaned_lyrics)"
   ]
  },
  {
   "cell_type": "code",
   "execution_count": 183,
   "id": "c6286875",
   "metadata": {},
   "outputs": [
    {
     "name": "stdout",
     "output_type": "stream",
     "text": [
      "[\" if this world were mine hey roman numeral seven bae drop it like it's hot if this world was mine i'd take your dreams and make 'em multiply if this world was mine i'd take your enemies in front of god introduce 'em to that light hit them strictly with that fire fahfah fahfahfah fahfah fah hey roman numeral seven bae drop it like it's hot if this world was mine i'd take your dreams and make 'em multiply if this world was mine i'd take your enemies in front of god introduce 'em to that light hit them strictly with that fire it's a vibe do your dance let 'em watch she a fan he a flop they just wanna kumbaya nah in this world concrete flowers grow heartache she only doin' what she know weekends get it poppin' on the low better days comin' for sure if this world were if it was up to me i wouldn't give these nobodies no sympathy i'd take away the pain i'd give you everything i just wanna see you win wanna see if this world were mine it go in when you out ride it do it real slow slide baby you a star strike pose when i'm when you with you with me everything goes slow come and put that put that on my on my titi soul soul 'rari red crown stack wrist stay froze really drip tell me pound if you on the way home love me in this world concrete flowers grow heartache she only doin' what she know weekends get it poppin' on the low better days comin' for sure if this world were if it was up to me i wouldn't give these nobodies no sympathy i'd take away the pain i'd give you everything i just wanna see you win wanna see if this world were mine i can't lie i trust you i love you i won't waste your time i turn it off just so i can turn you on i'ma make you say it loud i'm not even trippin' i won't stress you out i might even settle down for you i'ma show you i'm a pro i'ma take my time and turn it off just so i can turn you on baby weekends get it poppin' on the low better days comin' for sure i know you're comin' for better days if this world were mine\", \" yeah i've been tryna call i've been on my own for long enough maybe you can show me how to love maybe i'm goin' through withdrawals you don't even have to do too much you can turn me on with just a touch baby i look around and sin city's cold and empty oh no one's around to judge me oh i can't see clearly when you're gone i said ooh i'm blinded by the lights no i can't sleep until i feel your touch i said ooh i'm drowning in the night oh when i'm like this you're the one i trust hey hey hey i'm running out of time 'cause i can see the sun light up the sky so i hit the road in overdrive baby oh the city's cold and empty oh no one's around to judge me oh i can't see clearly when you're gone i said ooh i'm blinded by the lights no i can't sleep until i feel your touch i said ooh i'm drowning in the night oh when i'm like this you're the one i trust i'm just calling back to let you know back to let you know i could never say it on the phone say it on the phone will never let you go this time ooh i said ooh i'm blinded by the lights no i can't sleep until i feel your touch hey hey hey hey hey hey i said ooh i'm blinded by the lights no i can't sleep until i feel your touch\", \" do you know i count your heartbeats before you sleep i bite my fingernails to bone and now i crawl back under the stairwell to a place i call my home i really hope you enjoy the show because for me it's just a bad day you need people like me to feel maybe we're just having too much fun maybe you can't handle yourself staring at me with your lips and tongue you'll never know i don't know where i'm going to sleep tonight she said hotels are cheap and there's one down the street but oh don't you threaten me with a good time murder the moment my god i'm the serpent i'm sorry i can't see that you truly loved me maybe we're just having too much fun maybe you can't handle yourself staring at me with your lips and tongue i've been having this dream that we can fly so maybe if we never wake up we can see the sky please don't take this out on me i don't know how much longer i can take on this earth 'cause you're the only thing that's keeping me alive i've lost all touch with everything and nothing seems to work and i don't want to wait for the downset date 'cause and i'll never be the person that we both want me to be i would rather end it all tonight and if i mean anything to you i don't deserve to be alive i'm sorry but i've made up my mind maybe we're just having too much fun maybe you can't handle yourself staring at me with your lips and tongue i've been having this dream that we can fly so darling close your eyes 'cause you're about to miss everything about to miss everything about to miss everything about to miss everything\", \" up on his horse up on his horse not gonna wake up here anymore listen one time it's not the truth it's just a story i tell to you easy to say easy to do but it's not easy well maybe for you hope that you find it hope that it's good hope that you read it think that you should cuts you some slack as he sits back sizes you up plans his attack dadada drums please fab and i got it all i got it all waitin' for me down on the street but now you gotta do somethin' special for me i'm gonna say what's on my mind then i'll walk out then i'll feel fine yeah i'm under his thumb i'm on his back i will not show my teeth too quick i needed you there i needed you there but i didn't know i didn't know go alone i'll go alone we'll go alone i'll go alone back from his trip he's at the door when he gets back he's on the phone innocent eye innocent heart no it's not wrong but it's not right innocent time out on his own not gonna do that fuck i'm out of control i was just bored playin' the guitar learned all your tricks wasn't too hard it's the last one now i can promise you that i'm gonna find out the truth when i get back gone now are the old times forgotten time to hold on the railing the rubik's cube isn't solving for us old friends long forgotten the old ways at the bottom of the ocean now has swallowed the only thing that's left is us so pardon the silence that you're hearing it's turnin' into a deafening painful shameful roar\", \" shadodododo shadodododododododo shadodododo shadodododododododo shadodododo shadodododododododo shadodododo shadodododododododo oh when you walk by every night talking sweet and looking fine i get kind of hectic inside mmm baby i'm so into you darling if you only knew all the things that flow through my mind but it's just a sweet sweet fantasy baby when i close my eyes you come and take me on and on and on it's so deep in my daydreams but it's just a sweet sweet fantasy baby fantasy and i want you so badly shadodododo shadodododododododo shadodododo shadodododododododo shadodododo shadodododododododo shadodododo shadodododododododo images of rapture creep into me slowly as you're going to my head and my heart beats faster when you take me over time and time and time again but it's just a sweet sweet fantasy baby when i close my eyes you come and take me on and on and on it's so deep in my daydreams but it's just a sweet sweet fantasy baby fantasy oh oh it's just a sweet sweet fantasy baby when i close my eyes you come and take me on and on and on it's so deep in my daydreams but it's just a sweet sweet fantasy baby fantasy i'm in heaven with my boyfriend my laughing boyfriend there's no beginning and there is no end feels like i'm dreaming but i'm not sleeping oh it's just a sweet sweet fantasy baby when i close my eyes you come and take me on and on and on it's so deep in my daydreams but it's just a sweet sweet fantasy baby sweet sweet fantasy baby when i close my eyes you come and take me on and on and on it's so deep in my daydreams but it's just a sweet sweet fantasy baby sweet sweet fantasy baby sweet sweet fantasy baby\"]\n"
     ]
    }
   ],
   "source": [
    "print(lyric_list)"
   ]
  },
  {
   "cell_type": "code",
   "execution_count": 184,
   "id": "7de5e320",
   "metadata": {},
   "outputs": [
    {
     "name": "stdout",
     "output_type": "stream",
     "text": [
      "5\n"
     ]
    }
   ],
   "source": [
    "print(len(lyric_list))"
   ]
  },
  {
   "cell_type": "code",
   "execution_count": 185,
   "id": "0af60b3f",
   "metadata": {},
   "outputs": [
    {
     "name": "stdout",
     "output_type": "stream",
     "text": [
      " if this world were mine hey roman numeral seven bae drop it like it's hot if this world was mine i'd take your dreams and make 'em multiply if this world was mine i'd take your enemies in front of god introduce 'em to that light hit them strictly with that fire fahfah fahfahfah fahfah fah hey roman numeral seven bae drop it like it's hot if this world was mine i'd take your dreams and make 'em multiply if this world was mine i'd take your enemies in front of god introduce 'em to that light hit them strictly with that fire it's a vibe do your dance let 'em watch she a fan he a flop they just wanna kumbaya nah in this world concrete flowers grow heartache she only doin' what she know weekends get it poppin' on the low better days comin' for sure if this world were if it was up to me i wouldn't give these nobodies no sympathy i'd take away the pain i'd give you everything i just wanna see you win wanna see if this world were mine it go in when you out ride it do it real slow slide baby you a star strike pose when i'm when you with you with me everything goes slow come and put that put that on my on my titi soul soul 'rari red crown stack wrist stay froze really drip tell me pound if you on the way home love me in this world concrete flowers grow heartache she only doin' what she know weekends get it poppin' on the low better days comin' for sure if this world were if it was up to me i wouldn't give these nobodies no sympathy i'd take away the pain i'd give you everything i just wanna see you win wanna see if this world were mine i can't lie i trust you i love you i won't waste your time i turn it off just so i can turn you on i'ma make you say it loud i'm not even trippin' i won't stress you out i might even settle down for you i'ma show you i'm a pro i'ma take my time and turn it off just so i can turn you on baby weekends get it poppin' on the low better days comin' for sure i know you're comin' for better days if this world were mine\n"
     ]
    }
   ],
   "source": [
    "print(lyric_list[0])"
   ]
  },
  {
   "cell_type": "code",
   "execution_count": 186,
   "id": "d91a2519",
   "metadata": {},
   "outputs": [
    {
     "name": "stdout",
     "output_type": "stream",
     "text": [
      "{'neg': 0.027, 'neu': 0.667, 'pos': 0.307, 'compound': 0.9988}\n"
     ]
    }
   ],
   "source": [
    "#Sentiment Analysis\n",
    "sia = SentimentIntensityAnalyzer()\n",
    "scores = sia.polarity_scores(cleaned_lyrics)\n",
    "\n",
    "print(scores)\n",
    "# {'neg': 0.0, 'neu': 0.511, 'pos': 0.489, 'compound': 0.5719}"
   ]
  },
  {
   "cell_type": "code",
   "execution_count": 187,
   "id": "c9809eff",
   "metadata": {},
   "outputs": [],
   "source": [
    "#Determine setniment score based off compount\n",
    "\n",
    "if scores['compound'] >= 0.05:\n",
    "    sentiment = 'positive'\n",
    "elif scores['compound'] <= -0.05:\n",
    "    sentiment = 'negative'\n",
    "else:\n",
    "    sentiment = 'neutral'"
   ]
  },
  {
   "cell_type": "code",
   "execution_count": 188,
   "id": "899a3e64",
   "metadata": {},
   "outputs": [
    {
     "name": "stdout",
     "output_type": "stream",
     "text": [
      "positive\n"
     ]
    }
   ],
   "source": [
    "print(sentiment)"
   ]
  },
  {
   "cell_type": "code",
   "execution_count": 193,
   "id": "95be13cf",
   "metadata": {},
   "outputs": [],
   "source": [
    "#Identify which words are most unique\n",
    "\"\"\"tfidf_matrix needs lyrics from several songs to properly score lyrics\"\"\"\n",
    "\n",
    "# Assume `lyrics_list` is a list of cleaned lyrics from multiple songs\n",
    "vectorizer = TfidfVectorizer(stop_words='english', max_features=1000)\n",
    "tfidf_matrix = vectorizer.fit_transform(lyric_list)\n",
    "\n",
    "# Get feature names\n",
    "feature_names = vectorizer.get_feature_names_out()\n",
    "\n",
    "# Top keywords for a song:\n",
    "\n",
    "def get_top_keywords(tfidf_vector, feature_names, top_n=10):\n",
    "    vector_dense = tfidf_vector.toarray().flatten()\n",
    "    sorted_indices = np.argsort(vector_dense)[::-1]  # Descending order\n",
    "    top_keywords = [(feature_names[i], vector_dense[i]) for i in sorted_indices[:top_n] if vector_dense[i] > 0]\n",
    "    return top_keywords\n",
    "    # sorted_indices = np.argsort(tfidf_vector.toarray()[0])[::-1]\n",
    "    # top_keywords = [feature_names[i] for i in sorted_indices[:top_n]]\n",
    "    # return top_keywords"
   ]
  },
  {
   "cell_type": "code",
   "execution_count": 194,
   "id": "62ff05fb",
   "metadata": {},
   "outputs": [
    {
     "data": {
      "text/plain": [
       "[('world', 0.5510086154289483),\n",
       " ('wanna', 0.22958692309539513),\n",
       " ('em', 0.22958692309539513),\n",
       " ('days', 0.1836695384763161),\n",
       " ('better', 0.1836695384763161),\n",
       " ('comin', 0.1836695384763161),\n",
       " ('turn', 0.14818342716523641),\n",
       " ('sure', 0.13775215385723708),\n",
       " ('poppin', 0.13775215385723708),\n",
       " ('low', 0.13775215385723708)]"
      ]
     },
     "execution_count": 194,
     "metadata": {},
     "output_type": "execute_result"
    }
   ],
   "source": [
    "get_top_keywords(tfidf_matrix[0], feature_names)"
   ]
  },
  {
   "cell_type": "code",
   "execution_count": 191,
   "id": "c5076438",
   "metadata": {},
   "outputs": [
    {
     "name": "stdout",
     "output_type": "stream",
     "text": [
      "  (0, 178)\t0.04591738461907902\n",
      "  (0, 198)\t0.04591738461907902\n",
      "  (0, 226)\t0.04591738461907902\n",
      "  (0, 250)\t0.04591738461907902\n",
      "  (0, 141)\t0.04591738461907902\n",
      "  (0, 196)\t0.03075140762596771\n",
      "  (0, 145)\t0.13775215385723708\n",
      "  (0, 255)\t0.14818342716523641\n",
      "  (0, 242)\t0.043759759596395595\n",
      "  (0, 266)\t0.04591738461907902\n",
      "  (0, 273)\t0.09183476923815805\n",
      "  (0, 252)\t0.037045856791309104\n",
      "  (0, 129)\t0.04591738461907902\n",
      "  (0, 142)\t0.07409171358261821\n",
      "  (0, 108)\t0.037045856791309104\n",
      "  (0, 268)\t0.04591738461907902\n",
      "  (0, 177)\t0.04591738461907902\n",
      "  (0, 236)\t0.037045856791309104\n",
      "  (0, 51)\t0.04591738461907902\n",
      "  (0, 186)\t0.037045856791309104\n",
      "  (0, 80)\t0.04591738461907902\n",
      "  (0, 223)\t0.04591738461907902\n",
      "  (0, 277)\t0.04591738461907902\n",
      "  (0, 219)\t0.04591738461907902\n",
      "  (0, 30)\t0.04591738461907902\n",
      "  :\t:\n",
      "  (0, 128)\t0.037045856791309104\n",
      "  (0, 34)\t0.04591738461907902\n",
      "  (0, 258)\t0.04591738461907902\n",
      "  (0, 64)\t0.04591738461907902\n",
      "  (0, 66)\t0.04591738461907902\n",
      "  (0, 65)\t0.09183476923815805\n",
      "  (0, 227)\t0.09183476923815805\n",
      "  (0, 106)\t0.07409171358261821\n",
      "  (0, 130)\t0.07409171358261821\n",
      "  (0, 116)\t0.09183476923815805\n",
      "  (0, 84)\t0.07409171358261821\n",
      "  (0, 59)\t0.09183476923815805\n",
      "  (0, 153)\t0.09183476923815805\n",
      "  (0, 57)\t0.22958692309539513\n",
      "  (0, 146)\t0.13775215385723708\n",
      "  (0, 50)\t0.09183476923815805\n",
      "  (0, 111)\t0.09183476923815805\n",
      "  (0, 132)\t0.051738107090939636\n",
      "  (0, 52)\t0.09183476923815805\n",
      "  (0, 7)\t0.09183476923815805\n",
      "  (0, 199)\t0.09183476923815805\n",
      "  (0, 160)\t0.09183476923815805\n",
      "  (0, 192)\t0.09183476923815805\n",
      "  (0, 105)\t0.07409171358261821\n",
      "  (0, 275)\t0.5510086154289483\n"
     ]
    }
   ],
   "source": [
    "print(tfidf_matrix[0])"
   ]
  },
  {
   "cell_type": "code",
   "execution_count": 192,
   "id": "660338b8",
   "metadata": {},
   "outputs": [
    {
     "name": "stdout",
     "output_type": "stream",
     "text": [
      "['alive' 'anymore' 'attack' 'away' 'baby' 'bad' 'badly' 'bae' 'beats'\n",
      " 'beginning' 'better' 'bite' 'blinded' 'bone' 'bored' 'boyfriend'\n",
      " 'calling' 'cause' 'cheap' 'city' 'clearly' 'close' 'cold' 'come' 'comin'\n",
      " 'concrete' 'control' 'count' 'crawl' 'creep' 'crown' 'cube' 'cuts'\n",
      " 'dadada' 'dance' 'darling' 'date' 'day' 'daydreams' 'days' 'deafening'\n",
      " 'deep' 'deserve' 'didn' 'doin' 'don' 'door' 'downset' 'dream' 'dreaming'\n",
      " 'dreams' 'drip' 'drop' 'drowning' 'drums' 'earth' 'easy' 'em' 'end'\n",
      " 'enemies' 'enjoy' 'eye' 'eyes' 'fab' 'fah' 'fahfah' 'fahfahfah' 'fan'\n",
      " 'fantasy' 'faster' 'feel' 'feels' 'fine' 'fingernails' 'flop' 'flow'\n",
      " 'flowers' 'fly' 'forgotten' 'friends' 'froze' 'fuck' 'fun' 'gets' 'god'\n",
      " 'goes' 'goin' 'going' 'gone' 'gonna' 'good' 'got' 'gotta' 'grow' 'guitar'\n",
      " 'handle' 'hard' 'having' 'head' 'hearing' 'heart' 'heartache'\n",
      " 'heartbeats' 'heaven' 'hectic' 'hey' 'hit' 'hold' 'home' 'hope' 'horse'\n",
      " 'hot' 'hotels' 'images' 'innocent' 'inside' 'introduce' 'isn' 'judge'\n",
      " 'just' 'keeping' 'kind' 'knew' 'know' 'kumbaya' 'laughing' 'learned'\n",
      " 'left' 'let' 'lie' 'light' 'lights' 'like' 'lips' 'listen' 'll' 'long'\n",
      " 'longer' 'look' 'looking' 'lost' 'loud' 'love' 'loved' 'low' 'ma' 'make'\n",
      " 'maybe' 'mean' 'mind' 'miss' 'mmm' 'moment' 'multiply' 'murder' 'nah'\n",
      " 'need' 'needed' 'night' 'nobodies' 'numeral' 'ocean' 'oh' 'old' 'ooh'\n",
      " 'overdrive' 'pain' 'painful' 'pardon' 'people' 'person' 'phone' 'place'\n",
      " 'plans' 'playin' 'poppin' 'pose' 'pound' 'pro' 'promise' 'quick'\n",
      " 'railing' 'rapture' 'rari' 'read' 'real' 'really' 'red' 'ride' 'right'\n",
      " 'road' 'roar' 'roman' 'rubik' 'running' 'said' 'say' 'serpent' 'settle'\n",
      " 'seven' 'shadodododo' 'shadodododododododo' 'shameful' 'silence' 'sin'\n",
      " 'sits' 'sizes' 'sky' 'slack' 'sleep' 'sleeping' 'slide' 'slow' 'slowly'\n",
      " 'solving' 'somethin' 'sorry' 'soul' 'special' 'stack' 'stairwell' 'star'\n",
      " 'staring' 'stay' 'story' 'street' 'stress' 'strictly' 'strike' 'sun'\n",
      " 'sure' 'swallowed' 'sweet' 'sympathy' 'talking' 'teeth' 'tell' 'thing'\n",
      " 'things' 'think' 'threaten' 'thumb' 'time' 'times' 'titi' 'tongue'\n",
      " 'tonight' 'touch' 'tricks' 'trip' 'trippin' 'truly' 'trust' 'truth'\n",
      " 'tryna' 'turn' 'turnin' 've' 'vibe' 'wait' 'waitin' 'wake' 'walk' 'wanna'\n",
      " 'want' 'wasn' 'waste' 'watch' 'way' 'ways' 'weekends' 'win' 'withdrawals'\n",
      " 'won' 'work' 'world' 'wouldn' 'wrist' 'wrong' 'yeah']\n"
     ]
    }
   ],
   "source": [
    "print(feature_names)"
   ]
  },
  {
   "cell_type": "code",
   "execution_count": null,
   "id": "a6206e31",
   "metadata": {},
   "outputs": [],
   "source": []
  }
 ],
 "metadata": {
  "kernelspec": {
   "display_name": "Python 3",
   "language": "python",
   "name": "python3"
  },
  "language_info": {
   "codemirror_mode": {
    "name": "ipython",
    "version": 3
   },
   "file_extension": ".py",
   "mimetype": "text/x-python",
   "name": "python",
   "nbconvert_exporter": "python",
   "pygments_lexer": "ipython3",
   "version": "3.12.0"
  }
 },
 "nbformat": 4,
 "nbformat_minor": 5
}
