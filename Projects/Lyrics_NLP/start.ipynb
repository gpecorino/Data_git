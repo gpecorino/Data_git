{
 "cells": [
  {
   "cell_type": "code",
   "execution_count": 111,
   "id": "db10af5e",
   "metadata": {},
   "outputs": [],
   "source": [
    "#libraries\n",
    "from bs4 import BeautifulSoup, element\n",
    "import urllib\n",
    "import requests\n",
    "import pandas as pd\n",
    "import numpy as np\n",
    "import lyricsgenius\n",
    "import re\n",
    "\n",
    "#NLP stuff\n",
    "#Tokenization\n",
    "from nltk.tokenize import word_tokenize, sent_tokenize\n",
    "from nltk.stem import WordNetLemmatizer\n",
    "from nltk.corpus import stopwords #look into if I should keep this or not\n",
    "from nltk.sentiment import SentimentIntensityAnalyzer\n",
    "\n",
    "from sklearn.feature_extraction.text import TfidfVectorizer\n"
   ]
  },
  {
   "cell_type": "code",
   "execution_count": 112,
   "id": "eac73db4",
   "metadata": {},
   "outputs": [
    {
     "name": "stdout",
     "output_type": "stream",
     "text": [
      "Searching for \"Luther\" by Kendrick Lamar...\n",
      "Done.\n",
      "300 ContributorsTranslationsPortuguêsFrançaisEspañolTürkçeItalianoPolskiDeutschРусский (Russian)Українськаluther Lyrics“luther” is the third track on Kendrick Lamar’s sixth studio album, GNX and was later released as its third single. It marks his  sixth collaboration with his longtime friend SZA.\n",
      "\n",
      "The title comes from the… Read More [Intro]\n",
      "If this world were mine\n",
      "\n",
      "[Verse 1: Kendrick Lamar]\n",
      "Hey, Roman numeral seven, bae, drop it like it's hot\n",
      "If this world was mine, I'd take your dreams and make 'em multiply\n",
      "If this world was mine, I'd take your enemies in front of God\n",
      "Introduce 'em to that light, hit them strictly with that fire\n",
      "Fah-fah, fah-fah-fah, fah-fah, fah\n",
      "Hey, Roman numeral seven, bae, drop it like it's hot\n",
      "If this world was mine, I'd take your dreams and make 'em multiply\n",
      "If this world was mine, I'd take your enemies in front of God\n",
      "Introduce 'em to that light, hit them strictly with that fire\n",
      "It's a vibe, do your dance, let 'em watch\n",
      "She a fan, he a flop, they just wanna kumbaya, nah\n",
      "\n",
      "[Chorus: SZA, SZA & Kendrick Lamar]\n",
      "In this world, concrete flowers grow\n",
      "Heartache, she only doin' what she know\n",
      "Weekends, get it poppin' on the low\n",
      "Better days comin' for sure\n",
      "If this world were—\n",
      "If it was up to me\n",
      "I wouldn't give these nobodies no sympathy\n",
      "I'd take away the pain, I'd give you everything\n",
      "I just wanna see you win, wanna see\n",
      "If this world were mine\n",
      "\n",
      "\n",
      "[Verse 2: Kendrick Lamar & SZA]\n",
      "It go in (When you), out (Ride it), do it real slow (Slide)\n",
      "Baby, you a star, strike, pose\n",
      "When I'm (When you), with you (With me), everything goes (Slow)\n",
      "Come and (Put that), put that (On my), on my (Titi), soul (Soul)\n",
      "'Rari (Red), crown (Stack), wrist (Stay), froze (Really)\n",
      "Drip (Tell me), pound (If you), on the way home (Love me)\n",
      "\n",
      "[Chorus: Kendrick Lamar & SZA]\n",
      "In this world, concrete flowers grow\n",
      "Heartache, she only doin' what she know\n",
      "Weekends, get it poppin' on the low\n",
      "Better days comin' for sure\n",
      "If this world were—\n",
      "If it was up to me\n",
      "I wouldn't give these nobodies no sympathy\n",
      "I'd take away the pain, I'd give you everything\n",
      "I just wanna see you win, wanna see\n",
      "If this world were mine\n",
      "\n",
      "[Verse 3: Kendrick Lamar & SZA]\n",
      "I can't lie\n",
      "I trust you, I love you, I won't waste your time\n",
      "I turn it off just so I can turn you on\n",
      "I'ma make you say it loud\n",
      "I'm not even trippin', I won't stress you out\n",
      "I might even settle down for you, I'ma show you I'm a pro\n",
      "I'ma take my time and turn it off\n",
      "Just so I can turn you on, baby\n",
      "Weekends, get it poppin' on the low\n",
      "Better days comin' for sure\n",
      "\n",
      "\n",
      "[Outro: SZA]\n",
      "I know you're comin' for\n",
      "Better days\n",
      "If this world were mine\n"
     ]
    },
    {
     "name": "stderr",
     "output_type": "stream",
     "text": [
      "C:\\Users\\Monado\\AppData\\Roaming\\Python\\Python312\\site-packages\\lyricsgenius\\genius.py:468: FutureWarning: The constructor signature will change in a future version. It will change to Song(lyrics, body) instead of Song(client, json_dict, lyrics).\n",
      "  song = Song(self, song_info, lyrics)\n"
     ]
    }
   ],
   "source": [
    "genius = lyricsgenius.Genius(\"rPVs-pFT7GhBfTxhpu-ISnNCcvCsbRt8wIwhkkEXovrADgSBQfkndQW7Ge22R5Ts\")\n",
    "song = genius.search_song(\"Luther\", \"Kendrick Lamar\")\n",
    "lyrics = song.lyrics\n",
    "print(lyrics)"
   ]
  },
  {
   "cell_type": "markdown",
   "id": "1e3eb3de",
   "metadata": {},
   "source": [
    "# Cleaning Lyrics"
   ]
  },
  {
   "cell_type": "code",
   "execution_count": 113,
   "id": "4342dbe8",
   "metadata": {},
   "outputs": [],
   "source": [
    "#Data Cleaning/Processing\n",
    "\n",
    "def clean_lyrics(raw_lyrics):\n",
    "    #Get rid of information shoved at beginning of string leaving only the lyrics of the song\n",
    "    starter = ']' #This always finds the first closed bracket which is always the closing bracket for '[Intro]'\n",
    "    position = raw_lyrics.find(starter)\n",
    "    lyrics = raw_lyrics[position+1:]\n",
    "\n",
    "    # Remove section headers like [Chorus], [Verse 1], etc.\n",
    "    lyrics = re.sub(r\"\\[.*?\\]\", \"\", lyrics)\n",
    "\n",
    "    # Remove extra whitespace, newlines\n",
    "    lyrics = re.sub(r\"\\n+\", \" \", lyrics)\n",
    "    lyrics = re.sub(r\"\\s+\", \" \", lyrics)\n",
    "\n",
    "    # Optionally remove punctuation\n",
    "    lyrics = re.sub(r\"[^\\w\\s']\", \"\", lyrics)\n",
    "\n",
    "    # Lowercase\n",
    "    lyrics = lyrics.lower()\n",
    "\n",
    "    return lyrics\n"
   ]
  },
  {
   "cell_type": "code",
   "execution_count": 114,
   "id": "301066cd",
   "metadata": {},
   "outputs": [
    {
     "name": "stdout",
     "output_type": "stream",
     "text": [
      " if this world were mine hey roman numeral seven bae drop it like it's hot if this world was mine i'd take your dreams and make 'em multiply if this world was mine i'd take your enemies in front of god introduce 'em to that light hit them strictly with that fire fahfah fahfahfah fahfah fah hey roman numeral seven bae drop it like it's hot if this world was mine i'd take your dreams and make 'em multiply if this world was mine i'd take your enemies in front of god introduce 'em to that light hit them strictly with that fire it's a vibe do your dance let 'em watch she a fan he a flop they just wanna kumbaya nah in this world concrete flowers grow heartache she only doin' what she know weekends get it poppin' on the low better days comin' for sure if this world were if it was up to me i wouldn't give these nobodies no sympathy i'd take away the pain i'd give you everything i just wanna see you win wanna see if this world were mine it go in when you out ride it do it real slow slide baby you a star strike pose when i'm when you with you with me everything goes slow come and put that put that on my on my titi soul soul 'rari red crown stack wrist stay froze really drip tell me pound if you on the way home love me in this world concrete flowers grow heartache she only doin' what she know weekends get it poppin' on the low better days comin' for sure if this world were if it was up to me i wouldn't give these nobodies no sympathy i'd take away the pain i'd give you everything i just wanna see you win wanna see if this world were mine i can't lie i trust you i love you i won't waste your time i turn it off just so i can turn you on i'ma make you say it loud i'm not even trippin' i won't stress you out i might even settle down for you i'ma show you i'm a pro i'ma take my time and turn it off just so i can turn you on baby weekends get it poppin' on the low better days comin' for sure i know you're comin' for better days if this world were mine\n"
     ]
    }
   ],
   "source": [
    "cleaned_lyrics = clean_lyrics(lyrics)\n",
    "print(cleaned_lyrics)"
   ]
  },
  {
   "cell_type": "markdown",
   "id": "61089d8f",
   "metadata": {},
   "source": [
    "# Tokenization/Lemmatization/Filtering stopwords"
   ]
  },
  {
   "cell_type": "code",
   "execution_count": 115,
   "id": "3698666b",
   "metadata": {},
   "outputs": [],
   "source": [
    "# Tokenize into words\n",
    "words = word_tokenize(cleaned_lyrics)\n",
    "\n",
    "# Tokenize into sentences\n",
    "sentences = sent_tokenize(cleaned_lyrics) #this one doesn't do anything "
   ]
  },
  {
   "cell_type": "code",
   "execution_count": 116,
   "id": "bc740fdc",
   "metadata": {},
   "outputs": [
    {
     "name": "stdout",
     "output_type": "stream",
     "text": [
      "['if', 'this', 'world', 'were', 'mine', 'hey', 'roman', 'numeral', 'seven', 'bae', 'drop', 'it', 'like', 'it', \"'s\", 'hot', 'if', 'this', 'world', 'was', 'mine', 'i', \"'d\", 'take', 'your', 'dreams', 'and', 'make', \"'em\", 'multiply', 'if', 'this', 'world', 'was', 'mine', 'i', \"'d\", 'take', 'your', 'enemies', 'in', 'front', 'of', 'god', 'introduce', \"'em\", 'to', 'that', 'light', 'hit', 'them', 'strictly', 'with', 'that', 'fire', 'fahfah', 'fahfahfah', 'fahfah', 'fah', 'hey', 'roman', 'numeral', 'seven', 'bae', 'drop', 'it', 'like', 'it', \"'s\", 'hot', 'if', 'this', 'world', 'was', 'mine', 'i', \"'d\", 'take', 'your', 'dreams', 'and', 'make', \"'em\", 'multiply', 'if', 'this', 'world', 'was', 'mine', 'i', \"'d\", 'take', 'your', 'enemies', 'in', 'front', 'of', 'god', 'introduce', \"'em\", 'to', 'that', 'light', 'hit', 'them', 'strictly', 'with', 'that', 'fire', 'it', \"'s\", 'a', 'vibe', 'do', 'your', 'dance', 'let', \"'em\", 'watch', 'she', 'a', 'fan', 'he', 'a', 'flop', 'they', 'just', 'wan', 'na', 'kumbaya', 'nah', 'in', 'this', 'world', 'concrete', 'flowers', 'grow', 'heartache', 'she', 'only', 'doin', \"'\", 'what', 'she', 'know', 'weekends', 'get', 'it', 'poppin', \"'\", 'on', 'the', 'low', 'better', 'days', 'comin', \"'\", 'for', 'sure', 'if', 'this', 'world', 'were', 'if', 'it', 'was', 'up', 'to', 'me', 'i', 'would', \"n't\", 'give', 'these', 'nobodies', 'no', 'sympathy', 'i', \"'d\", 'take', 'away', 'the', 'pain', 'i', \"'d\", 'give', 'you', 'everything', 'i', 'just', 'wan', 'na', 'see', 'you', 'win', 'wan', 'na', 'see', 'if', 'this', 'world', 'were', 'mine', 'it', 'go', 'in', 'when', 'you', 'out', 'ride', 'it', 'do', 'it', 'real', 'slow', 'slide', 'baby', 'you', 'a', 'star', 'strike', 'pose', 'when', 'i', \"'m\", 'when', 'you', 'with', 'you', 'with', 'me', 'everything', 'goes', 'slow', 'come', 'and', 'put', 'that', 'put', 'that', 'on', 'my', 'on', 'my', 'titi', 'soul', 'soul', \"'rari\", 'red', 'crown', 'stack', 'wrist', 'stay', 'froze', 'really', 'drip', 'tell', 'me', 'pound', 'if', 'you', 'on', 'the', 'way', 'home', 'love', 'me', 'in', 'this', 'world', 'concrete', 'flowers', 'grow', 'heartache', 'she', 'only', 'doin', \"'\", 'what', 'she', 'know', 'weekends', 'get', 'it', 'poppin', \"'\", 'on', 'the', 'low', 'better', 'days', 'comin', \"'\", 'for', 'sure', 'if', 'this', 'world', 'were', 'if', 'it', 'was', 'up', 'to', 'me', 'i', 'would', \"n't\", 'give', 'these', 'nobodies', 'no', 'sympathy', 'i', \"'d\", 'take', 'away', 'the', 'pain', 'i', \"'d\", 'give', 'you', 'everything', 'i', 'just', 'wan', 'na', 'see', 'you', 'win', 'wan', 'na', 'see', 'if', 'this', 'world', 'were', 'mine', 'i', 'ca', \"n't\", 'lie', 'i', 'trust', 'you', 'i', 'love', 'you', 'i', 'wo', \"n't\", 'waste', 'your', 'time', 'i', 'turn', 'it', 'off', 'just', 'so', 'i', 'can', 'turn', 'you', 'on', \"i'ma\", 'make', 'you', 'say', 'it', 'loud', 'i', \"'m\", 'not', 'even', 'trippin', \"'\", 'i', 'wo', \"n't\", 'stress', 'you', 'out', 'i', 'might', 'even', 'settle', 'down', 'for', 'you', \"i'ma\", 'show', 'you', 'i', \"'m\", 'a', 'pro', \"i'ma\", 'take', 'my', 'time', 'and', 'turn', 'it', 'off', 'just', 'so', 'i', 'can', 'turn', 'you', 'on', 'baby', 'weekends', 'get', 'it', 'poppin', \"'\", 'on', 'the', 'low', 'better', 'days', 'comin', \"'\", 'for', 'sure', 'i', 'know', 'you', \"'re\", 'comin', \"'\", 'for', 'better', 'days', 'if', 'this', 'world', 'were', 'mine']\n"
     ]
    }
   ],
   "source": [
    "print(words)"
   ]
  },
  {
   "cell_type": "code",
   "execution_count": 117,
   "id": "60356eb9",
   "metadata": {},
   "outputs": [],
   "source": [
    "lemmatizer = WordNetLemmatizer()\n",
    "lemmatized_words = [lemmatizer.lemmatize(word) for word in words]"
   ]
  },
  {
   "cell_type": "code",
   "execution_count": 118,
   "id": "69034032",
   "metadata": {},
   "outputs": [
    {
     "name": "stdout",
     "output_type": "stream",
     "text": [
      "['if', 'this', 'world', 'were', 'mine', 'hey', 'roman', 'numeral', 'seven', 'bae', 'drop', 'it', 'like', 'it', \"'s\", 'hot', 'if', 'this', 'world', 'wa', 'mine', 'i', \"'d\", 'take', 'your', 'dream', 'and', 'make', \"'em\", 'multiply', 'if', 'this', 'world', 'wa', 'mine', 'i', \"'d\", 'take', 'your', 'enemy', 'in', 'front', 'of', 'god', 'introduce', \"'em\", 'to', 'that', 'light', 'hit', 'them', 'strictly', 'with', 'that', 'fire', 'fahfah', 'fahfahfah', 'fahfah', 'fah', 'hey', 'roman', 'numeral', 'seven', 'bae', 'drop', 'it', 'like', 'it', \"'s\", 'hot', 'if', 'this', 'world', 'wa', 'mine', 'i', \"'d\", 'take', 'your', 'dream', 'and', 'make', \"'em\", 'multiply', 'if', 'this', 'world', 'wa', 'mine', 'i', \"'d\", 'take', 'your', 'enemy', 'in', 'front', 'of', 'god', 'introduce', \"'em\", 'to', 'that', 'light', 'hit', 'them', 'strictly', 'with', 'that', 'fire', 'it', \"'s\", 'a', 'vibe', 'do', 'your', 'dance', 'let', \"'em\", 'watch', 'she', 'a', 'fan', 'he', 'a', 'flop', 'they', 'just', 'wan', 'na', 'kumbaya', 'nah', 'in', 'this', 'world', 'concrete', 'flower', 'grow', 'heartache', 'she', 'only', 'doin', \"'\", 'what', 'she', 'know', 'weekend', 'get', 'it', 'poppin', \"'\", 'on', 'the', 'low', 'better', 'day', 'comin', \"'\", 'for', 'sure', 'if', 'this', 'world', 'were', 'if', 'it', 'wa', 'up', 'to', 'me', 'i', 'would', \"n't\", 'give', 'these', 'nobody', 'no', 'sympathy', 'i', \"'d\", 'take', 'away', 'the', 'pain', 'i', \"'d\", 'give', 'you', 'everything', 'i', 'just', 'wan', 'na', 'see', 'you', 'win', 'wan', 'na', 'see', 'if', 'this', 'world', 'were', 'mine', 'it', 'go', 'in', 'when', 'you', 'out', 'ride', 'it', 'do', 'it', 'real', 'slow', 'slide', 'baby', 'you', 'a', 'star', 'strike', 'pose', 'when', 'i', \"'m\", 'when', 'you', 'with', 'you', 'with', 'me', 'everything', 'go', 'slow', 'come', 'and', 'put', 'that', 'put', 'that', 'on', 'my', 'on', 'my', 'titi', 'soul', 'soul', \"'rari\", 'red', 'crown', 'stack', 'wrist', 'stay', 'froze', 'really', 'drip', 'tell', 'me', 'pound', 'if', 'you', 'on', 'the', 'way', 'home', 'love', 'me', 'in', 'this', 'world', 'concrete', 'flower', 'grow', 'heartache', 'she', 'only', 'doin', \"'\", 'what', 'she', 'know', 'weekend', 'get', 'it', 'poppin', \"'\", 'on', 'the', 'low', 'better', 'day', 'comin', \"'\", 'for', 'sure', 'if', 'this', 'world', 'were', 'if', 'it', 'wa', 'up', 'to', 'me', 'i', 'would', \"n't\", 'give', 'these', 'nobody', 'no', 'sympathy', 'i', \"'d\", 'take', 'away', 'the', 'pain', 'i', \"'d\", 'give', 'you', 'everything', 'i', 'just', 'wan', 'na', 'see', 'you', 'win', 'wan', 'na', 'see', 'if', 'this', 'world', 'were', 'mine', 'i', 'ca', \"n't\", 'lie', 'i', 'trust', 'you', 'i', 'love', 'you', 'i', 'wo', \"n't\", 'waste', 'your', 'time', 'i', 'turn', 'it', 'off', 'just', 'so', 'i', 'can', 'turn', 'you', 'on', \"i'ma\", 'make', 'you', 'say', 'it', 'loud', 'i', \"'m\", 'not', 'even', 'trippin', \"'\", 'i', 'wo', \"n't\", 'stress', 'you', 'out', 'i', 'might', 'even', 'settle', 'down', 'for', 'you', \"i'ma\", 'show', 'you', 'i', \"'m\", 'a', 'pro', \"i'ma\", 'take', 'my', 'time', 'and', 'turn', 'it', 'off', 'just', 'so', 'i', 'can', 'turn', 'you', 'on', 'baby', 'weekend', 'get', 'it', 'poppin', \"'\", 'on', 'the', 'low', 'better', 'day', 'comin', \"'\", 'for', 'sure', 'i', 'know', 'you', \"'re\", 'comin', \"'\", 'for', 'better', 'day', 'if', 'this', 'world', 'were', 'mine']\n"
     ]
    }
   ],
   "source": [
    "print(lemmatized_words)"
   ]
  },
  {
   "cell_type": "code",
   "execution_count": 119,
   "id": "d2d08b1d",
   "metadata": {},
   "outputs": [],
   "source": [
    "#Consider if I should keep this or not. Lose of some words may affect models effectivness\n",
    "stop_words = set(stopwords.words(\"english\"))\n",
    "\n",
    "filtered_words = [word for word in lemmatized_words if word not in stop_words]"
   ]
  },
  {
   "cell_type": "code",
   "execution_count": 120,
   "id": "710863e8",
   "metadata": {},
   "outputs": [
    {
     "name": "stdout",
     "output_type": "stream",
     "text": [
      "['world', 'mine', 'hey', 'roman', 'numeral', 'seven', 'bae', 'drop', 'like', \"'s\", 'hot', 'world', 'wa', 'mine', \"'d\", 'take', 'dream', 'make', \"'em\", 'multiply', 'world', 'wa', 'mine', \"'d\", 'take', 'enemy', 'front', 'god', 'introduce', \"'em\", 'light', 'hit', 'strictly', 'fire', 'fahfah', 'fahfahfah', 'fahfah', 'fah', 'hey', 'roman', 'numeral', 'seven', 'bae', 'drop', 'like', \"'s\", 'hot', 'world', 'wa', 'mine', \"'d\", 'take', 'dream', 'make', \"'em\", 'multiply', 'world', 'wa', 'mine', \"'d\", 'take', 'enemy', 'front', 'god', 'introduce', \"'em\", 'light', 'hit', 'strictly', 'fire', \"'s\", 'vibe', 'dance', 'let', \"'em\", 'watch', 'fan', 'flop', 'wan', 'na', 'kumbaya', 'nah', 'world', 'concrete', 'flower', 'grow', 'heartache', 'doin', \"'\", 'know', 'weekend', 'get', 'poppin', \"'\", 'low', 'better', 'day', 'comin', \"'\", 'sure', 'world', 'wa', 'would', \"n't\", 'give', 'nobody', 'sympathy', \"'d\", 'take', 'away', 'pain', \"'d\", 'give', 'everything', 'wan', 'na', 'see', 'win', 'wan', 'na', 'see', 'world', 'mine', 'go', 'ride', 'real', 'slow', 'slide', 'baby', 'star', 'strike', 'pose', \"'m\", 'everything', 'go', 'slow', 'come', 'put', 'put', 'titi', 'soul', 'soul', \"'rari\", 'red', 'crown', 'stack', 'wrist', 'stay', 'froze', 'really', 'drip', 'tell', 'pound', 'way', 'home', 'love', 'world', 'concrete', 'flower', 'grow', 'heartache', 'doin', \"'\", 'know', 'weekend', 'get', 'poppin', \"'\", 'low', 'better', 'day', 'comin', \"'\", 'sure', 'world', 'wa', 'would', \"n't\", 'give', 'nobody', 'sympathy', \"'d\", 'take', 'away', 'pain', \"'d\", 'give', 'everything', 'wan', 'na', 'see', 'win', 'wan', 'na', 'see', 'world', 'mine', 'ca', \"n't\", 'lie', 'trust', 'love', 'wo', \"n't\", 'waste', 'time', 'turn', 'turn', \"i'ma\", 'make', 'say', 'loud', \"'m\", 'even', 'trippin', \"'\", 'wo', \"n't\", 'stress', 'might', 'even', 'settle', \"i'ma\", 'show', \"'m\", 'pro', \"i'ma\", 'take', 'time', 'turn', 'turn', 'baby', 'weekend', 'get', 'poppin', \"'\", 'low', 'better', 'day', 'comin', \"'\", 'sure', 'know', \"'re\", 'comin', \"'\", 'better', 'day', 'world', 'mine']\n"
     ]
    }
   ],
   "source": [
    "print(filtered_words)"
   ]
  },
  {
   "cell_type": "markdown",
   "id": "19fd732c",
   "metadata": {},
   "source": [
    "# NLP"
   ]
  },
  {
   "cell_type": "code",
   "execution_count": 137,
   "id": "d91a2519",
   "metadata": {},
   "outputs": [
    {
     "name": "stdout",
     "output_type": "stream",
     "text": [
      "{'neg': 0.09, 'neu': 0.774, 'pos': 0.135, 'compound': 0.9697}\n"
     ]
    }
   ],
   "source": [
    "#Sentiment Analysis\n",
    "sia = SentimentIntensityAnalyzer()\n",
    "scores = sia.polarity_scores(cleaned_lyrics)\n",
    "\n",
    "print(scores)\n",
    "# {'neg': 0.0, 'neu': 0.511, 'pos': 0.489, 'compound': 0.5719}"
   ]
  },
  {
   "cell_type": "code",
   "execution_count": 138,
   "id": "c9809eff",
   "metadata": {},
   "outputs": [],
   "source": [
    "#Determine setniment score based off compount\n",
    "\n",
    "if scores['compound'] >= 0.05:\n",
    "    sentiment = 'positive'\n",
    "elif scores['compound'] <= -0.05:\n",
    "    sentiment = 'negative'\n",
    "else:\n",
    "    sentiment = 'neutral'"
   ]
  },
  {
   "cell_type": "code",
   "execution_count": 139,
   "id": "899a3e64",
   "metadata": {},
   "outputs": [
    {
     "name": "stdout",
     "output_type": "stream",
     "text": [
      "positive\n"
     ]
    }
   ],
   "source": [
    "print(sentiment)"
   ]
  },
  {
   "cell_type": "code",
   "execution_count": 142,
   "id": "95be13cf",
   "metadata": {},
   "outputs": [],
   "source": [
    "#Identify which words are most unique\n",
    "\n",
    "# Assume `lyrics_list` is a list of cleaned lyrics from multiple songs\n",
    "vectorizer = TfidfVectorizer(stop_words='english', max_features=1000)\n",
    "tfidf_matrix = vectorizer.fit_transform(filtered_words)\n",
    "\n",
    "# Get feature names\n",
    "feature_names = vectorizer.get_feature_names_out()\n",
    "\n",
    "# Top keywords for a song:\n",
    "\n",
    "def get_top_keywords(tfidf_vector, feature_names, top_n=10):\n",
    "    # vector_dense = tfidf_vector.toarray().flatten()\n",
    "    # sorted_indices = np.argsort(vector_dense)[::-1]  # Descending order\n",
    "    # top_keywords = [(feature_names[i], vector_dense[i]) for i in sorted_indices[:top_n] if vector_dense[i] > 0]\n",
    "    # return top_keywords\n",
    "    sorted_indices = np.argsort(tfidf_vector.toarray()[0])[::-1]\n",
    "    top_keywords = [feature_names[i] for i in sorted_indices[:top_n]]\n",
    "    return top_keywords"
   ]
  },
  {
   "cell_type": "code",
   "execution_count": 143,
   "id": "62ff05fb",
   "metadata": {},
   "outputs": [
    {
     "data": {
      "text/plain": [
       "['world',\n",
       " 'flower',\n",
       " 'god',\n",
       " 'grow',\n",
       " 'heartache',\n",
       " 'hey',\n",
       " 'hit',\n",
       " 'home',\n",
       " 'hot',\n",
       " 'introduce']"
      ]
     },
     "execution_count": 143,
     "metadata": {},
     "output_type": "execute_result"
    }
   ],
   "source": [
    "get_top_keywords(tfidf_matrix[0], feature_names)"
   ]
  },
  {
   "cell_type": "code",
   "execution_count": 144,
   "id": "c5076438",
   "metadata": {},
   "outputs": [
    {
     "name": "stdout",
     "output_type": "stream",
     "text": [
      "  (0, 87)\t1.0\n",
      "  (2, 27)\t1.0\n",
      "  (3, 57)\t1.0\n",
      "  (4, 46)\t1.0\n",
      "  (5, 60)\t1.0\n",
      "  (6, 2)\t1.0\n",
      "  (7, 14)\t1.0\n",
      "  (8, 37)\t1.0\n",
      "  (10, 30)\t1.0\n",
      "  (11, 87)\t1.0\n",
      "  (12, 79)\t1.0\n",
      "  (16, 12)\t1.0\n",
      "  (17, 42)\t1.0\n",
      "  (18, 15)\t1.0\n",
      "  (19, 43)\t1.0\n",
      "  (20, 87)\t1.0\n",
      "  (21, 79)\t1.0\n",
      "  (25, 16)\t1.0\n",
      "  (27, 24)\t1.0\n",
      "  (28, 31)\t1.0\n",
      "  (29, 15)\t1.0\n",
      "  (30, 36)\t1.0\n",
      "  (31, 28)\t1.0\n",
      "  (32, 68)\t1.0\n",
      "  (34, 18)\t1.0\n",
      "  :\t:\n",
      "  (210, 58)\t1.0\n",
      "  (211, 38)\t1.0\n",
      "  (214, 75)\t1.0\n",
      "  (216, 86)\t1.0\n",
      "  (218, 67)\t1.0\n",
      "  (221, 59)\t1.0\n",
      "  (222, 41)\t1.0\n",
      "  (225, 51)\t1.0\n",
      "  (226, 41)\t1.0\n",
      "  (228, 73)\t1.0\n",
      "  (229, 77)\t1.0\n",
      "  (230, 77)\t1.0\n",
      "  (231, 1)\t1.0\n",
      "  (232, 84)\t1.0\n",
      "  (234, 48)\t1.0\n",
      "  (236, 40)\t1.0\n",
      "  (237, 3)\t1.0\n",
      "  (238, 10)\t1.0\n",
      "  (239, 6)\t1.0\n",
      "  (241, 70)\t1.0\n",
      "  (242, 32)\t1.0\n",
      "  (244, 6)\t1.0\n",
      "  (246, 3)\t1.0\n",
      "  (247, 10)\t1.0\n",
      "  (248, 87)\t1.0\n"
     ]
    }
   ],
   "source": [
    "print(tfidf_matrix)"
   ]
  },
  {
   "cell_type": "code",
   "execution_count": null,
   "id": "660338b8",
   "metadata": {},
   "outputs": [],
   "source": []
  }
 ],
 "metadata": {
  "kernelspec": {
   "display_name": "Python 3",
   "language": "python",
   "name": "python3"
  },
  "language_info": {
   "codemirror_mode": {
    "name": "ipython",
    "version": 3
   },
   "file_extension": ".py",
   "mimetype": "text/x-python",
   "name": "python",
   "nbconvert_exporter": "python",
   "pygments_lexer": "ipython3",
   "version": "3.12.0"
  }
 },
 "nbformat": 4,
 "nbformat_minor": 5
}
