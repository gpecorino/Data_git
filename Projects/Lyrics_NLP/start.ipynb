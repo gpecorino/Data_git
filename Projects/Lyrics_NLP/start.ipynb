{
 "cells": [
  {
   "cell_type": "code",
   "execution_count": 8,
   "id": "db10af5e",
   "metadata": {},
   "outputs": [],
   "source": [
    "#libraries\n",
    "from bs4 import BeautifulSoup, element\n",
    "import urllib\n",
    "import requests\n",
    "import pandas as pd\n",
    "import numpy as np\n",
    "import lyricsgenius\n"
   ]
  },
  {
   "cell_type": "code",
   "execution_count": 9,
   "id": "eac73db4",
   "metadata": {},
   "outputs": [
    {
     "name": "stdout",
     "output_type": "stream",
     "text": [
      "Searching for \"Blinding Lights\" by The Weeknd...\n",
      "Done.\n",
      "249 ContributorsTranslationsTürkçeSvenskaEspañolSlovenčinaРусский (Russian)PortuguêsPolskiNorsk日本語 (Japanese)Italianoעברית (Hebrew)DeutschFrançaisفارسیNederlandsDanskShqipالعربيةsrpskiBlinding Lights Lyrics“Blinding Lights” is the second single to The Weeknd’s fourth studio album After Hours, following the record’s lead single “Heartless,” which released two days prior on November 27, 2019. The track finds Abel… Read More [Intro]\n",
      "Yeah\n",
      "\n",
      "[Verse 1]\n",
      "I've been tryna call\n",
      "I've been on my own for long enough\n",
      "Maybe you can show me how to love, maybe\n",
      "I'm goin' through withdrawals\n",
      "You don't even have to do too much\n",
      "You can turn me on with just a touch, baby\n",
      "\n",
      "[Pre-Chorus]\n",
      "I look around and\n",
      "Sin City's cold and empty (Oh)\n",
      "No one's around to judge me (Oh)\n",
      "I can't see clearly when you're gone\n",
      "\n",
      "[Chorus]\n",
      "I said, ooh, I'm blinded by the lights\n",
      "No, I can't sleep until I feel your touch\n",
      "I said, ooh, I'm drowning in the night\n",
      "Oh, when I'm like this, you're the one I trust\n",
      "Hey, hey, hey\n",
      "\n",
      "[Verse 2]\n",
      "I'm running out of time\n",
      "'Cause I can see the sun light up the sky\n",
      "So I hit the road in overdrive, baby, oh\n",
      "\n",
      "\n",
      "[Pre-Chorus]\n",
      "The city's cold and empty (Oh)\n",
      "No one's around to judge me (Oh)\n",
      "I can't see clearly when you're gone\n",
      "\n",
      "[Chorus]\n",
      "I said, ooh, I'm blinded by the lights\n",
      "No, I can't sleep until I feel your touch\n",
      "I said, ooh, I'm drowning in the night\n",
      "Oh, when I'm like this, you're the one I trust\n",
      "\n",
      "[Bridge]\n",
      "I'm just calling back to let you know (Back to let you know)\n",
      "I could never say it on the phone (Say it on the phone)\n",
      "Will never let you go this time (Ooh)\n",
      "\n",
      "[Chorus]\n",
      "I said, ooh, I'm blinded by the lights\n",
      "No, I can't sleep until I feel your touch\n",
      "Hey, hey, hey\n",
      "\n",
      "[Post-Chorus]\n",
      "Hey, hey, hey\n",
      "\n",
      "[Outro]\n",
      "I said, ooh, I'm blinded by the lights\n",
      "No, I can't sleep until I feel your touch\n"
     ]
    },
    {
     "name": "stderr",
     "output_type": "stream",
     "text": [
      "C:\\Users\\Monado\\AppData\\Roaming\\Python\\Python312\\site-packages\\lyricsgenius\\genius.py:468: FutureWarning: The constructor signature will change in a future version. It will change to Song(lyrics, body) instead of Song(client, json_dict, lyrics).\n",
      "  song = Song(self, song_info, lyrics)\n"
     ]
    }
   ],
   "source": [
    "genius = lyricsgenius.Genius(\"rPVs-pFT7GhBfTxhpu-ISnNCcvCsbRt8wIwhkkEXovrADgSBQfkndQW7Ge22R5Ts\")\n",
    "song = genius.search_song(\"Blinding Lights\", \"The Weeknd\")\n",
    "print(song.lyrics)"
   ]
  },
  {
   "cell_type": "code",
   "execution_count": 10,
   "id": "3698666b",
   "metadata": {},
   "outputs": [
    {
     "name": "stdout",
     "output_type": "stream",
     "text": [
      "<class 'str'>\n"
     ]
    }
   ],
   "source": [
    "print(type(song.lyrics))"
   ]
  },
  {
   "cell_type": "code",
   "execution_count": 12,
   "id": "814fdac9",
   "metadata": {},
   "outputs": [
    {
     "name": "stdout",
     "output_type": "stream",
     "text": [
      "249 ContributorsTranslationsTürkçeSvenskaEspañolSlovenčinaРусский (Russian)PortuguêsPolskiNorsk日本語 (\n"
     ]
    }
   ],
   "source": [
    "print(song.lyrics[0:100])"
   ]
  },
  {
   "cell_type": "code",
   "execution_count": null,
   "id": "9e1f2b8f",
   "metadata": {},
   "outputs": [],
   "source": []
  }
 ],
 "metadata": {
  "kernelspec": {
   "display_name": "Python 3",
   "language": "python",
   "name": "python3"
  },
  "language_info": {
   "codemirror_mode": {
    "name": "ipython",
    "version": 3
   },
   "file_extension": ".py",
   "mimetype": "text/x-python",
   "name": "python",
   "nbconvert_exporter": "python",
   "pygments_lexer": "ipython3",
   "version": "3.12.0"
  }
 },
 "nbformat": 4,
 "nbformat_minor": 5
}
