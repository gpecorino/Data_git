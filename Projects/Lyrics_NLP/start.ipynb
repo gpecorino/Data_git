{
 "cells": [
  {
   "cell_type": "code",
   "execution_count": 238,
   "id": "db10af5e",
   "metadata": {},
   "outputs": [],
   "source": [
    "#libraries\n",
    "from bs4 import BeautifulSoup, element\n",
    "import urllib\n",
    "import requests\n",
    "import pandas as pd\n",
    "import numpy as np\n",
    "import lyricsgenius\n",
    "import re\n",
    "import json\n",
    "\n",
    "#NLP stuff\n",
    "#Tokenization\n",
    "from nltk.tokenize import word_tokenize, sent_tokenize\n",
    "from nltk.stem import WordNetLemmatizer\n",
    "from nltk.corpus import stopwords #look into if I should keep this or not\n",
    "from nltk.sentiment import SentimentIntensityAnalyzer\n",
    "\n",
    "from sklearn.feature_extraction.text import TfidfVectorizer\n"
   ]
  },
  {
   "cell_type": "code",
   "execution_count": 196,
   "id": "17154694",
   "metadata": {},
   "outputs": [],
   "source": [
    "#store lyrics from song in this list, for now it will start fresh every time\n",
    "lyric_list = []"
   ]
  },
  {
   "cell_type": "code",
   "execution_count": 258,
   "id": "eac73db4",
   "metadata": {},
   "outputs": [
    {
     "name": "stdout",
     "output_type": "stream",
     "text": [
      "Searching for \"Gloria\" by Kendrick Lamar...\n",
      "Done.\n",
      "216 ContributorsTranslationsEnglishPolskiPortuguêsEspañolgloria Lyrics“gloria” is the outro of Kendrick Lamar’s sixth studio album, GNX, which features vocals from his long-time friend and collaborator, SZA. It marks the sixth collaboration between the two.\n",
      "\n",
      "The woman Kendrick… Read More [Intro: Deyra Barrera]\n",
      "Sentado, Anita y tú\n",
      "\n",
      "[Verse 1: Kendrick Lamar]\n",
      "Me and my bitch got a complicated relationship\n",
      "She's so controllin', I noticed it ain't no playin' with\n",
      "I met her when I was off the porch as a teenager\n",
      "She said one day I would right my wrongs and see paper\n",
      "We started out young, lookin' for some identity, made a thousand mistakes\n",
      "But never did we lack chemistry\n",
      "Wrappin' my hand 'round your waist\n",
      "That was back when you did whatever I say\n",
      "Dreams of sellin' narcotics, runnin' blocks, or robbin' banks\n",
      "I was in love with you, didn't know what it was with you\n",
      "Kiss you in back of the class just to get a buzz with you\n",
      "Some niggas wanted you, but they weren't committed\n",
      "Preoccupied playin' John Madden and bullshittin'\n",
      "Remember when granny died? You looked at me and said, \"Baby, dry your eyes\n",
      "Depend on me as your relief, let your anger be mine\"\n",
      "We was locked in ever since then\n",
      "So territorial, even took me 'way from my friends, hmm, hmm (Gah, gah, gah)\n",
      "\n",
      "[Chorus: SZA]\n",
      "Scared of forever, you know nothin' else is gon' pass\n",
      "I just gotta let you know, woah\n",
      "Whenever you want me, you got me 'til the end of time\n",
      "Ooh, just gotta let you know\n",
      "\n",
      "\n",
      "[Verse 2: Kendrick Lamar]\n",
      "Said you gon' see other people if I didn't grow with you\n",
      "Wasn't no more holdin' them pistols in front of stores with you\n",
      "You want reality, not tragedy, for sure, I get you\n",
      "To tell the truth, I been pretty used to what open-minded people do\n",
      "In 2014, I went to Africa, baby, you was my passenger\n",
      "My eyes and ears for all the years the neighborhood had baffled us\n",
      "Of course I had to wrap it up, I didn't fully trust you\n",
      "Fabrication, I disgust you, then you blocked me, I said, \"Fuck you\"\n",
      "\n",
      "[Interlude: SZA & Kendrick Lamar]\n",
      "Nigga, what?\n",
      "I gave you life, I breathe the motherfuckin' charisma in this bitch\n",
      "I bring the blessings, I gave you power\n",
      "Nigga, I bring the rainfall, I gave you hustle\n",
      "Then fall right back in love the very moment that I touch you (Gah, gah, gah)\n",
      "\n",
      "[Chorus: SZA]\n",
      "Scared of forever, you know nothin' else is gon' pass\n",
      "I just gotta let you know\n",
      "Whenever you want me, you got me 'til the end of time\n",
      "Ooh, just gotta let you know\n",
      "\n",
      "[Verse 3: Kendrick Lamar]\n",
      "You were spontaneous, firecracker, plus our love is dangerous\n",
      "Life of passion, laughin' at you lose your temper, slightly crashin'\n",
      "Dumb enough to ill reaction, ain't no disrespect\n",
      "Highly sensitive, possessed, saw potential, even when it's tragic\n",
      "So jealous, hate it when I hit the club to get some bitches\n",
      "Wrote 'em off, rather see me hit the church and get religious\n",
      "Who you foolin'? I know what you doin', you my contradiction\n",
      "'Member when you caught that body and still wiggled through that sentence?\n",
      "Loved you more, when you flip and lose your shit, I hugged you more\n",
      "It's sexy to me, cuss they ass out and hold that grudge some more\n",
      "Down bitch, I know your favorite movie, is it Notebook?\n",
      "So good, if they all sub me, get 'em all booked\n",
      "My baby boo, you either heal niggas or you kill niggas\n",
      "Both is true, it take some tough skin just to deal with you\n",
      "Logical explanation don't exist, flippin' pages\n",
      "Chapter after chapter, probably remarry and head to Vegas\n",
      "Bitches gettin' marked out, they can't erase our history\n",
      "They margins ain't big enough, they all led by bigotry\n",
      "My woman and my right hand, my saint and my sin\n",
      "Ain't no bitch like my bitch 'cause that bitch been my pen\n",
      "\n",
      "\n",
      "[Outro: SZA]\n",
      "Gloria, I wanna take you to euphoria\n",
      "Bitches want, but they ain't strong enough\n",
      "I heard they talking, we notorious\n",
      "If someone talking on me\n",
      "I see you, you see me\n",
      "Both see what we want, oh, oh\n",
      "I see you, you see me\n",
      "Both see what we want\n"
     ]
    },
    {
     "name": "stderr",
     "output_type": "stream",
     "text": [
      "C:\\Users\\Monado\\AppData\\Roaming\\Python\\Python312\\site-packages\\lyricsgenius\\genius.py:468: FutureWarning: The constructor signature will change in a future version. It will change to Song(lyrics, body) instead of Song(client, json_dict, lyrics).\n",
      "  song = Song(self, song_info, lyrics)\n"
     ]
    }
   ],
   "source": [
    "genius = lyricsgenius.Genius(\"rPVs-pFT7GhBfTxhpu-ISnNCcvCsbRt8wIwhkkEXovrADgSBQfkndQW7Ge22R5Ts\")\n",
    "song = genius.search_song(\"Gloria\", \"Kendrick Lamar\")\n",
    "lyrics = song.lyrics\n",
    "print(lyrics)"
   ]
  },
  {
   "cell_type": "markdown",
   "id": "1e3eb3de",
   "metadata": {},
   "source": [
    "# Cleaning Lyrics"
   ]
  },
  {
   "cell_type": "code",
   "execution_count": 259,
   "id": "4342dbe8",
   "metadata": {},
   "outputs": [],
   "source": [
    "#Data Cleaning/Processing\n",
    "\n",
    "def clean_lyrics(raw_lyrics):\n",
    "    #Get rid of information shoved at beginning of string leaving only the lyrics of the song\n",
    "    starter = ']' #This always finds the first closed bracket which is always the closing bracket for '[Intro]'\n",
    "    position = raw_lyrics.find(starter)\n",
    "    lyrics = raw_lyrics[position+1:]\n",
    "\n",
    "    # Remove section headers like [Chorus], [Verse 1], etc.\n",
    "    lyrics = re.sub(r\"\\[.*?\\]\", \"\", lyrics)\n",
    "\n",
    "    # Remove extra whitespace, newlines\n",
    "    lyrics = re.sub(r\"\\n+\", \" \", lyrics)\n",
    "    lyrics = re.sub(r\"\\s+\", \" \", lyrics)\n",
    "\n",
    "    # Optionally remove punctuation\n",
    "    lyrics = re.sub(r\"[^\\w\\s']\", \"\", lyrics)\n",
    "\n",
    "    # Lowercase\n",
    "    lyrics = lyrics.lower()\n",
    "\n",
    "    return lyrics\n"
   ]
  },
  {
   "cell_type": "code",
   "execution_count": 260,
   "id": "301066cd",
   "metadata": {},
   "outputs": [
    {
     "name": "stdout",
     "output_type": "stream",
     "text": [
      " sentado anita y tú me and my bitch got a complicated relationship she's so controllin' i noticed it ain't no playin' with i met her when i was off the porch as a teenager she said one day i would right my wrongs and see paper we started out young lookin' for some identity made a thousand mistakes but never did we lack chemistry wrappin' my hand 'round your waist that was back when you did whatever i say dreams of sellin' narcotics runnin' blocks or robbin' banks i was in love with you didn't know what it was with you kiss you in back of the class just to get a buzz with you some niggas wanted you but they weren't committed preoccupied playin' john madden and bullshittin' remember when granny died you looked at me and said baby dry your eyes depend on me as your relief let your anger be mine we was locked in ever since then so territorial even took me 'way from my friends hmm hmm gah gah gah scared of forever you know nothin' else is gon' pass i just gotta let you know woah whenever you want me you got me 'til the end of time ooh just gotta let you know said you gon' see other people if i didn't grow with you wasn't no more holdin' them pistols in front of stores with you you want reality not tragedy for sure i get you to tell the truth i been pretty used to what openminded people do in 2014 i went to africa baby you was my passenger my eyes and ears for all the years the neighborhood had baffled us of course i had to wrap it up i didn't fully trust you fabrication i disgust you then you blocked me i said fuck you nigga what i gave you life i breathe the motherfuckin' charisma in this bitch i bring the blessings i gave you power nigga i bring the rainfall i gave you hustle then fall right back in love the very moment that i touch you gah gah gah scared of forever you know nothin' else is gon' pass i just gotta let you know whenever you want me you got me 'til the end of time ooh just gotta let you know you were spontaneous firecracker plus our love is dangerous life of passion laughin' at you lose your temper slightly crashin' dumb enough to ill reaction ain't no disrespect highly sensitive possessed saw potential even when it's tragic so jealous hate it when i hit the club to get some bitches wrote 'em off rather see me hit the church and get religious who you foolin' i know what you doin' you my contradiction 'member when you caught that body and still wiggled through that sentence loved you more when you flip and lose your shit i hugged you more it's sexy to me cuss they ass out and hold that grudge some more down bitch i know your favorite movie is it notebook so good if they all sub me get 'em all booked my baby boo you either heal niggas or you kill niggas both is true it take some tough skin just to deal with you logical explanation don't exist flippin' pages chapter after chapter probably remarry and head to vegas bitches gettin' marked out they can't erase our history they margins ain't big enough they all led by bigotry my woman and my right hand my saint and my sin ain't no bitch like my bitch 'cause that bitch been my pen gloria i wanna take you to euphoria bitches want but they ain't strong enough i heard they talking we notorious if someone talking on me i see you you see me both see what we want oh oh i see you you see me both see what we want\n"
     ]
    }
   ],
   "source": [
    "cleaned_lyrics = clean_lyrics(lyrics)\n",
    "print(cleaned_lyrics)"
   ]
  },
  {
   "cell_type": "markdown",
   "id": "c27bac27",
   "metadata": {},
   "source": [
    "# Add songs to txt file for storage"
   ]
  },
  {
   "cell_type": "code",
   "execution_count": null,
   "id": "4bf80ea8",
   "metadata": {},
   "outputs": [],
   "source": [
    "#appends lyrics to txt file to store for later use with NLP model\n",
    "with open(\"lyrics_list.txt\", \"a\", encoding=\"utf-8\") as file:\n",
    "    file.write(\"\\n\" + cleaned_lyrics + ',' )"
   ]
  },
  {
   "cell_type": "code",
   "execution_count": 262,
   "id": "cc46bc85",
   "metadata": {},
   "outputs": [],
   "source": [
    "with open(\"lyrics_list.txt\", \"r\", encoding=\"utf-8\") as f:\n",
    "    text = f.read()\n",
    "    lyrics_list = [song for song in text.split(',') if song]"
   ]
  },
  {
   "cell_type": "code",
   "execution_count": 263,
   "id": "a8fcb13c",
   "metadata": {},
   "outputs": [
    {
     "name": "stdout",
     "output_type": "stream",
     "text": [
      "[\"and i wish on all the rainbows that i see i wish on all the people we see my shooter pescatarian but he eat up all the beef 21 you gave me your ass to kiss but want the all of me goddamn i stand on business dot my i's and cross my t's all i got is these lil' pictures when i think 'bout all the g's 21 memories in my head the devil talkin' to me on god i know satan down that path but god walkin' with me put your phone light in the air if you done lost a nigga 21 kept it solid ran up a bag and didn't have to cross a nigga 21 21 21 woah bulletproof my cars yeah he a homebody fuck it kill him in his yard yeah niggas go to clubs and let down they guard 21 we got choppers out until we find somewhere to park on god pussy hit the cup and nod 21 trench hoes used to curve me now they treat me like i'm god facts i know you want my spot but you don't wanna play your part pussy if it was up to you you probably let these niggas starve 21 i got rich and opened more doors than a doorman on god all the glocks came with extensions like a sewin straight up and all these cars came with bbl's and body kits 21 claim you a killer but you still ain't got a body yet 21 how you that nigga when you can't go where you grew up at pussy how that's your nigga when he cap to hoes behind your back the fuck family picture you can kill me if you spot a rat on god real rap this ain't no cap see my shooter pescatarian but he eat up all the beef 21 you gave me your ass to kiss but want the all of me goddamn i stand on business dot my i's and cross my t's all i got is these lil' pictures when i think 'bout all the g's 21 memories in my head the devil talkin' to me on god i know satan down that path but god walkin' with me put your phone light in the air if you done lost a nigga 21 kept it solid ran up a bag and didn't have to cross a nigga 21 21 21 came from rats and roaches yeah i seen plenty homicides and still kept my focus 21 kill you for some clout and they'll do anything for motion on god we can't let no bitch say that she the one who broke us facts all familiar faces at the table when we toastin' 21 every story got a twist i can put on watches from my shoulder way down to my wrist i can't wait on no one i'm a hustler i won't ask for shit she gon' look at you less than a man if you ask your bitch 21 even if you helped her on her feet on god they take you for granted better charge your fee 21 you 'posed to be a woman that's the better me how we both pushin' p see my shooter pescatarian but he eat up all the beef 21 you gave me your ass to kiss but want the all of me goddamn i stand on business dot my i's and cross my t's all i got is these lil' pictures when i think 'bout all the g's 21 memories in my head the devil talkin' to me on god i know satan down that path but god walkin' with me put your phone light in the air if you done lost a nigga 21 kept it solid ran up a bag and didn't have to cross a nigga 21 21 21 i'm wishin' on a star to follow where you are i'm wishin' on a star woah and i wish on all the rainbows that i see i'm wishin' on a star to follow where you are\", \"\\n yeah i've been tryna call i've been on my own for long enough maybe you can show me how to love maybe i'm goin' through withdrawals you don't even have to do too much you can turn me on with just a touch baby i look around and sin city's cold and empty oh no one's around to judge me oh i can't see clearly when you're gone i said ooh i'm blinded by the lights no i can't sleep until i feel your touch i said ooh i'm drowning in the night oh when i'm like this you're the one i trust hey hey hey i'm running out of time 'cause i can see the sun light up the sky so i hit the road in overdrive baby oh the city's cold and empty oh no one's around to judge me oh i can't see clearly when you're gone i said ooh i'm blinded by the lights no i can't sleep until i feel your touch i said ooh i'm drowning in the night oh when i'm like this you're the one i trust i'm just calling back to let you know back to let you know i could never say it on the phone say it on the phone will never let you go this time ooh i said ooh i'm blinded by the lights no i can't sleep until i feel your touch hey hey hey hey hey hey i said ooh i'm blinded by the lights no i can't sleep until i feel your touch\", \"\\n sentado anita y tú me and my bitch got a complicated relationship she's so controllin' i noticed it ain't no playin' with i met her when i was off the porch as a teenager she said one day i would right my wrongs and see paper we started out young lookin' for some identity made a thousand mistakes but never did we lack chemistry wrappin' my hand 'round your waist that was back when you did whatever i say dreams of sellin' narcotics runnin' blocks or robbin' banks i was in love with you didn't know what it was with you kiss you in back of the class just to get a buzz with you some niggas wanted you but they weren't committed preoccupied playin' john madden and bullshittin' remember when granny died you looked at me and said baby dry your eyes depend on me as your relief let your anger be mine we was locked in ever since then so territorial even took me 'way from my friends hmm hmm gah gah gah scared of forever you know nothin' else is gon' pass i just gotta let you know woah whenever you want me you got me 'til the end of time ooh just gotta let you know said you gon' see other people if i didn't grow with you wasn't no more holdin' them pistols in front of stores with you you want reality not tragedy for sure i get you to tell the truth i been pretty used to what openminded people do in 2014 i went to africa baby you was my passenger my eyes and ears for all the years the neighborhood had baffled us of course i had to wrap it up i didn't fully trust you fabrication i disgust you then you blocked me i said fuck you nigga what i gave you life i breathe the motherfuckin' charisma in this bitch i bring the blessings i gave you power nigga i bring the rainfall i gave you hustle then fall right back in love the very moment that i touch you gah gah gah scared of forever you know nothin' else is gon' pass i just gotta let you know whenever you want me you got me 'til the end of time ooh just gotta let you know you were spontaneous firecracker plus our love is dangerous life of passion laughin' at you lose your temper slightly crashin' dumb enough to ill reaction ain't no disrespect highly sensitive possessed saw potential even when it's tragic so jealous hate it when i hit the club to get some bitches wrote 'em off rather see me hit the church and get religious who you foolin' i know what you doin' you my contradiction 'member when you caught that body and still wiggled through that sentence loved you more when you flip and lose your shit i hugged you more it's sexy to me cuss they ass out and hold that grudge some more down bitch i know your favorite movie is it notebook so good if they all sub me get 'em all booked my baby boo you either heal niggas or you kill niggas both is true it take some tough skin just to deal with you logical explanation don't exist flippin' pages chapter after chapter probably remarry and head to vegas bitches gettin' marked out they can't erase our history they margins ain't big enough they all led by bigotry my woman and my right hand my saint and my sin ain't no bitch like my bitch 'cause that bitch been my pen gloria i wanna take you to euphoria bitches want but they ain't strong enough i heard they talking we notorious if someone talking on me i see you you see me both see what we want oh oh i see you you see me both see what we want\"]\n",
      "3\n"
     ]
    }
   ],
   "source": [
    "print(lyrics_list)\n",
    "print(len(lyrics_list))"
   ]
  },
  {
   "cell_type": "code",
   "execution_count": 266,
   "id": "a04bb89f",
   "metadata": {},
   "outputs": [
    {
     "name": "stdout",
     "output_type": "stream",
     "text": [
      "\n",
      " sentado anita y tú me and my bitch got a complicated relationship she's so controllin' i noticed it ain't no playin' with i met her when i was off the porch as a teenager she said one day i would right my wrongs and see paper we started out young lookin' for some identity made a thousand mistakes but never did we lack chemistry wrappin' my hand 'round your waist that was back when you did whatever i say dreams of sellin' narcotics runnin' blocks or robbin' banks i was in love with you didn't know what it was with you kiss you in back of the class just to get a buzz with you some niggas wanted you but they weren't committed preoccupied playin' john madden and bullshittin' remember when granny died you looked at me and said baby dry your eyes depend on me as your relief let your anger be mine we was locked in ever since then so territorial even took me 'way from my friends hmm hmm gah gah gah scared of forever you know nothin' else is gon' pass i just gotta let you know woah whenever you want me you got me 'til the end of time ooh just gotta let you know said you gon' see other people if i didn't grow with you wasn't no more holdin' them pistols in front of stores with you you want reality not tragedy for sure i get you to tell the truth i been pretty used to what openminded people do in 2014 i went to africa baby you was my passenger my eyes and ears for all the years the neighborhood had baffled us of course i had to wrap it up i didn't fully trust you fabrication i disgust you then you blocked me i said fuck you nigga what i gave you life i breathe the motherfuckin' charisma in this bitch i bring the blessings i gave you power nigga i bring the rainfall i gave you hustle then fall right back in love the very moment that i touch you gah gah gah scared of forever you know nothin' else is gon' pass i just gotta let you know whenever you want me you got me 'til the end of time ooh just gotta let you know you were spontaneous firecracker plus our love is dangerous life of passion laughin' at you lose your temper slightly crashin' dumb enough to ill reaction ain't no disrespect highly sensitive possessed saw potential even when it's tragic so jealous hate it when i hit the club to get some bitches wrote 'em off rather see me hit the church and get religious who you foolin' i know what you doin' you my contradiction 'member when you caught that body and still wiggled through that sentence loved you more when you flip and lose your shit i hugged you more it's sexy to me cuss they ass out and hold that grudge some more down bitch i know your favorite movie is it notebook so good if they all sub me get 'em all booked my baby boo you either heal niggas or you kill niggas both is true it take some tough skin just to deal with you logical explanation don't exist flippin' pages chapter after chapter probably remarry and head to vegas bitches gettin' marked out they can't erase our history they margins ain't big enough they all led by bigotry my woman and my right hand my saint and my sin ain't no bitch like my bitch 'cause that bitch been my pen gloria i wanna take you to euphoria bitches want but they ain't strong enough i heard they talking we notorious if someone talking on me i see you you see me both see what we want oh oh i see you you see me both see what we want\n"
     ]
    }
   ],
   "source": [
    "print(lyrics_list[2])"
   ]
  },
  {
   "cell_type": "code",
   "execution_count": 207,
   "id": "73540067",
   "metadata": {},
   "outputs": [],
   "source": [
    "with open(\"lyrics_list.json\", \"r\") as f:\n",
    "    data = json.load(f)  # this should be a list"
   ]
  },
  {
   "cell_type": "code",
   "execution_count": 208,
   "id": "536e526f",
   "metadata": {},
   "outputs": [
    {
     "name": "stdout",
     "output_type": "stream",
     "text": [
      " yeah i've been tryna call i've been on my own for long enough maybe you can show me how to love maybe i'm goin' through withdrawals you don't even have to do too much you can turn me on with just a touch baby i look around and sin city's cold and empty oh no one's around to judge me oh i can't see clearly when you're gone i said ooh i'm blinded by the lights no i can't sleep until i feel your touch i said ooh i'm drowning in the night oh when i'm like this you're the one i trust hey hey hey i'm running out of time 'cause i can see the sun light up the sky so i hit the road in overdrive baby oh the city's cold and empty oh no one's around to judge me oh i can't see clearly when you're gone i said ooh i'm blinded by the lights no i can't sleep until i feel your touch i said ooh i'm drowning in the night oh when i'm like this you're the one i trust i'm just calling back to let you know back to let you know i could never say it on the phone say it on the phone will never let you go this time ooh i said ooh i'm blinded by the lights no i can't sleep until i feel your touch hey hey hey hey hey hey i said ooh i'm blinded by the lights no i can't sleep until i feel your touch\n",
      "1187\n"
     ]
    }
   ],
   "source": [
    "print(data)\n",
    "print(len(data))"
   ]
  },
  {
   "cell_type": "code",
   "execution_count": 209,
   "id": "6e46bafa",
   "metadata": {},
   "outputs": [
    {
     "ename": "AttributeError",
     "evalue": "'str' object has no attribute 'append'",
     "output_type": "error",
     "traceback": [
      "\u001b[1;31m---------------------------------------------------------------------------\u001b[0m",
      "\u001b[1;31mAttributeError\u001b[0m                            Traceback (most recent call last)",
      "Cell \u001b[1;32mIn[209], line 1\u001b[0m\n\u001b[1;32m----> 1\u001b[0m \u001b[43mdata\u001b[49m\u001b[38;5;241;43m.\u001b[39;49m\u001b[43mappend\u001b[49m(cleaned_lyrics)\n",
      "\u001b[1;31mAttributeError\u001b[0m: 'str' object has no attribute 'append'"
     ]
    }
   ],
   "source": [
    "data.append(cleaned_lyrics)"
   ]
  },
  {
   "cell_type": "code",
   "execution_count": null,
   "id": "f41f3b18",
   "metadata": {},
   "outputs": [],
   "source": [
    "print(data)\n",
    "print(len(data))"
   ]
  },
  {
   "cell_type": "code",
   "execution_count": null,
   "id": "c793cbb4",
   "metadata": {},
   "outputs": [],
   "source": [
    "with open('lyrics_list.json','w') as f:\n",
    "    json.dump(data,f)"
   ]
  },
  {
   "cell_type": "code",
   "execution_count": null,
   "id": "60420c96",
   "metadata": {},
   "outputs": [],
   "source": []
  },
  {
   "cell_type": "markdown",
   "id": "61089d8f",
   "metadata": {},
   "source": [
    "# Tokenization/Lemmatization/Filtering stopwords"
   ]
  },
  {
   "cell_type": "code",
   "execution_count": 115,
   "id": "3698666b",
   "metadata": {},
   "outputs": [],
   "source": [
    "# Tokenize into words\n",
    "words = word_tokenize(cleaned_lyrics)\n",
    "\n",
    "# Tokenize into sentences\n",
    "sentences = sent_tokenize(cleaned_lyrics) #this one doesn't do anything "
   ]
  },
  {
   "cell_type": "code",
   "execution_count": 116,
   "id": "bc740fdc",
   "metadata": {},
   "outputs": [
    {
     "name": "stdout",
     "output_type": "stream",
     "text": [
      "['if', 'this', 'world', 'were', 'mine', 'hey', 'roman', 'numeral', 'seven', 'bae', 'drop', 'it', 'like', 'it', \"'s\", 'hot', 'if', 'this', 'world', 'was', 'mine', 'i', \"'d\", 'take', 'your', 'dreams', 'and', 'make', \"'em\", 'multiply', 'if', 'this', 'world', 'was', 'mine', 'i', \"'d\", 'take', 'your', 'enemies', 'in', 'front', 'of', 'god', 'introduce', \"'em\", 'to', 'that', 'light', 'hit', 'them', 'strictly', 'with', 'that', 'fire', 'fahfah', 'fahfahfah', 'fahfah', 'fah', 'hey', 'roman', 'numeral', 'seven', 'bae', 'drop', 'it', 'like', 'it', \"'s\", 'hot', 'if', 'this', 'world', 'was', 'mine', 'i', \"'d\", 'take', 'your', 'dreams', 'and', 'make', \"'em\", 'multiply', 'if', 'this', 'world', 'was', 'mine', 'i', \"'d\", 'take', 'your', 'enemies', 'in', 'front', 'of', 'god', 'introduce', \"'em\", 'to', 'that', 'light', 'hit', 'them', 'strictly', 'with', 'that', 'fire', 'it', \"'s\", 'a', 'vibe', 'do', 'your', 'dance', 'let', \"'em\", 'watch', 'she', 'a', 'fan', 'he', 'a', 'flop', 'they', 'just', 'wan', 'na', 'kumbaya', 'nah', 'in', 'this', 'world', 'concrete', 'flowers', 'grow', 'heartache', 'she', 'only', 'doin', \"'\", 'what', 'she', 'know', 'weekends', 'get', 'it', 'poppin', \"'\", 'on', 'the', 'low', 'better', 'days', 'comin', \"'\", 'for', 'sure', 'if', 'this', 'world', 'were', 'if', 'it', 'was', 'up', 'to', 'me', 'i', 'would', \"n't\", 'give', 'these', 'nobodies', 'no', 'sympathy', 'i', \"'d\", 'take', 'away', 'the', 'pain', 'i', \"'d\", 'give', 'you', 'everything', 'i', 'just', 'wan', 'na', 'see', 'you', 'win', 'wan', 'na', 'see', 'if', 'this', 'world', 'were', 'mine', 'it', 'go', 'in', 'when', 'you', 'out', 'ride', 'it', 'do', 'it', 'real', 'slow', 'slide', 'baby', 'you', 'a', 'star', 'strike', 'pose', 'when', 'i', \"'m\", 'when', 'you', 'with', 'you', 'with', 'me', 'everything', 'goes', 'slow', 'come', 'and', 'put', 'that', 'put', 'that', 'on', 'my', 'on', 'my', 'titi', 'soul', 'soul', \"'rari\", 'red', 'crown', 'stack', 'wrist', 'stay', 'froze', 'really', 'drip', 'tell', 'me', 'pound', 'if', 'you', 'on', 'the', 'way', 'home', 'love', 'me', 'in', 'this', 'world', 'concrete', 'flowers', 'grow', 'heartache', 'she', 'only', 'doin', \"'\", 'what', 'she', 'know', 'weekends', 'get', 'it', 'poppin', \"'\", 'on', 'the', 'low', 'better', 'days', 'comin', \"'\", 'for', 'sure', 'if', 'this', 'world', 'were', 'if', 'it', 'was', 'up', 'to', 'me', 'i', 'would', \"n't\", 'give', 'these', 'nobodies', 'no', 'sympathy', 'i', \"'d\", 'take', 'away', 'the', 'pain', 'i', \"'d\", 'give', 'you', 'everything', 'i', 'just', 'wan', 'na', 'see', 'you', 'win', 'wan', 'na', 'see', 'if', 'this', 'world', 'were', 'mine', 'i', 'ca', \"n't\", 'lie', 'i', 'trust', 'you', 'i', 'love', 'you', 'i', 'wo', \"n't\", 'waste', 'your', 'time', 'i', 'turn', 'it', 'off', 'just', 'so', 'i', 'can', 'turn', 'you', 'on', \"i'ma\", 'make', 'you', 'say', 'it', 'loud', 'i', \"'m\", 'not', 'even', 'trippin', \"'\", 'i', 'wo', \"n't\", 'stress', 'you', 'out', 'i', 'might', 'even', 'settle', 'down', 'for', 'you', \"i'ma\", 'show', 'you', 'i', \"'m\", 'a', 'pro', \"i'ma\", 'take', 'my', 'time', 'and', 'turn', 'it', 'off', 'just', 'so', 'i', 'can', 'turn', 'you', 'on', 'baby', 'weekends', 'get', 'it', 'poppin', \"'\", 'on', 'the', 'low', 'better', 'days', 'comin', \"'\", 'for', 'sure', 'i', 'know', 'you', \"'re\", 'comin', \"'\", 'for', 'better', 'days', 'if', 'this', 'world', 'were', 'mine']\n"
     ]
    }
   ],
   "source": [
    "print(words)"
   ]
  },
  {
   "cell_type": "code",
   "execution_count": 117,
   "id": "60356eb9",
   "metadata": {},
   "outputs": [],
   "source": [
    "lemmatizer = WordNetLemmatizer()\n",
    "lemmatized_words = [lemmatizer.lemmatize(word) for word in words]"
   ]
  },
  {
   "cell_type": "code",
   "execution_count": 118,
   "id": "69034032",
   "metadata": {},
   "outputs": [
    {
     "name": "stdout",
     "output_type": "stream",
     "text": [
      "['if', 'this', 'world', 'were', 'mine', 'hey', 'roman', 'numeral', 'seven', 'bae', 'drop', 'it', 'like', 'it', \"'s\", 'hot', 'if', 'this', 'world', 'wa', 'mine', 'i', \"'d\", 'take', 'your', 'dream', 'and', 'make', \"'em\", 'multiply', 'if', 'this', 'world', 'wa', 'mine', 'i', \"'d\", 'take', 'your', 'enemy', 'in', 'front', 'of', 'god', 'introduce', \"'em\", 'to', 'that', 'light', 'hit', 'them', 'strictly', 'with', 'that', 'fire', 'fahfah', 'fahfahfah', 'fahfah', 'fah', 'hey', 'roman', 'numeral', 'seven', 'bae', 'drop', 'it', 'like', 'it', \"'s\", 'hot', 'if', 'this', 'world', 'wa', 'mine', 'i', \"'d\", 'take', 'your', 'dream', 'and', 'make', \"'em\", 'multiply', 'if', 'this', 'world', 'wa', 'mine', 'i', \"'d\", 'take', 'your', 'enemy', 'in', 'front', 'of', 'god', 'introduce', \"'em\", 'to', 'that', 'light', 'hit', 'them', 'strictly', 'with', 'that', 'fire', 'it', \"'s\", 'a', 'vibe', 'do', 'your', 'dance', 'let', \"'em\", 'watch', 'she', 'a', 'fan', 'he', 'a', 'flop', 'they', 'just', 'wan', 'na', 'kumbaya', 'nah', 'in', 'this', 'world', 'concrete', 'flower', 'grow', 'heartache', 'she', 'only', 'doin', \"'\", 'what', 'she', 'know', 'weekend', 'get', 'it', 'poppin', \"'\", 'on', 'the', 'low', 'better', 'day', 'comin', \"'\", 'for', 'sure', 'if', 'this', 'world', 'were', 'if', 'it', 'wa', 'up', 'to', 'me', 'i', 'would', \"n't\", 'give', 'these', 'nobody', 'no', 'sympathy', 'i', \"'d\", 'take', 'away', 'the', 'pain', 'i', \"'d\", 'give', 'you', 'everything', 'i', 'just', 'wan', 'na', 'see', 'you', 'win', 'wan', 'na', 'see', 'if', 'this', 'world', 'were', 'mine', 'it', 'go', 'in', 'when', 'you', 'out', 'ride', 'it', 'do', 'it', 'real', 'slow', 'slide', 'baby', 'you', 'a', 'star', 'strike', 'pose', 'when', 'i', \"'m\", 'when', 'you', 'with', 'you', 'with', 'me', 'everything', 'go', 'slow', 'come', 'and', 'put', 'that', 'put', 'that', 'on', 'my', 'on', 'my', 'titi', 'soul', 'soul', \"'rari\", 'red', 'crown', 'stack', 'wrist', 'stay', 'froze', 'really', 'drip', 'tell', 'me', 'pound', 'if', 'you', 'on', 'the', 'way', 'home', 'love', 'me', 'in', 'this', 'world', 'concrete', 'flower', 'grow', 'heartache', 'she', 'only', 'doin', \"'\", 'what', 'she', 'know', 'weekend', 'get', 'it', 'poppin', \"'\", 'on', 'the', 'low', 'better', 'day', 'comin', \"'\", 'for', 'sure', 'if', 'this', 'world', 'were', 'if', 'it', 'wa', 'up', 'to', 'me', 'i', 'would', \"n't\", 'give', 'these', 'nobody', 'no', 'sympathy', 'i', \"'d\", 'take', 'away', 'the', 'pain', 'i', \"'d\", 'give', 'you', 'everything', 'i', 'just', 'wan', 'na', 'see', 'you', 'win', 'wan', 'na', 'see', 'if', 'this', 'world', 'were', 'mine', 'i', 'ca', \"n't\", 'lie', 'i', 'trust', 'you', 'i', 'love', 'you', 'i', 'wo', \"n't\", 'waste', 'your', 'time', 'i', 'turn', 'it', 'off', 'just', 'so', 'i', 'can', 'turn', 'you', 'on', \"i'ma\", 'make', 'you', 'say', 'it', 'loud', 'i', \"'m\", 'not', 'even', 'trippin', \"'\", 'i', 'wo', \"n't\", 'stress', 'you', 'out', 'i', 'might', 'even', 'settle', 'down', 'for', 'you', \"i'ma\", 'show', 'you', 'i', \"'m\", 'a', 'pro', \"i'ma\", 'take', 'my', 'time', 'and', 'turn', 'it', 'off', 'just', 'so', 'i', 'can', 'turn', 'you', 'on', 'baby', 'weekend', 'get', 'it', 'poppin', \"'\", 'on', 'the', 'low', 'better', 'day', 'comin', \"'\", 'for', 'sure', 'i', 'know', 'you', \"'re\", 'comin', \"'\", 'for', 'better', 'day', 'if', 'this', 'world', 'were', 'mine']\n"
     ]
    }
   ],
   "source": [
    "print(lemmatized_words)"
   ]
  },
  {
   "cell_type": "code",
   "execution_count": 119,
   "id": "d2d08b1d",
   "metadata": {},
   "outputs": [],
   "source": [
    "#Consider if I should keep this or not. Lose of some words may affect models effectivness\n",
    "stop_words = set(stopwords.words(\"english\"))\n",
    "\n",
    "filtered_words = [word for word in lemmatized_words if word not in stop_words]"
   ]
  },
  {
   "cell_type": "code",
   "execution_count": 120,
   "id": "710863e8",
   "metadata": {},
   "outputs": [
    {
     "name": "stdout",
     "output_type": "stream",
     "text": [
      "['world', 'mine', 'hey', 'roman', 'numeral', 'seven', 'bae', 'drop', 'like', \"'s\", 'hot', 'world', 'wa', 'mine', \"'d\", 'take', 'dream', 'make', \"'em\", 'multiply', 'world', 'wa', 'mine', \"'d\", 'take', 'enemy', 'front', 'god', 'introduce', \"'em\", 'light', 'hit', 'strictly', 'fire', 'fahfah', 'fahfahfah', 'fahfah', 'fah', 'hey', 'roman', 'numeral', 'seven', 'bae', 'drop', 'like', \"'s\", 'hot', 'world', 'wa', 'mine', \"'d\", 'take', 'dream', 'make', \"'em\", 'multiply', 'world', 'wa', 'mine', \"'d\", 'take', 'enemy', 'front', 'god', 'introduce', \"'em\", 'light', 'hit', 'strictly', 'fire', \"'s\", 'vibe', 'dance', 'let', \"'em\", 'watch', 'fan', 'flop', 'wan', 'na', 'kumbaya', 'nah', 'world', 'concrete', 'flower', 'grow', 'heartache', 'doin', \"'\", 'know', 'weekend', 'get', 'poppin', \"'\", 'low', 'better', 'day', 'comin', \"'\", 'sure', 'world', 'wa', 'would', \"n't\", 'give', 'nobody', 'sympathy', \"'d\", 'take', 'away', 'pain', \"'d\", 'give', 'everything', 'wan', 'na', 'see', 'win', 'wan', 'na', 'see', 'world', 'mine', 'go', 'ride', 'real', 'slow', 'slide', 'baby', 'star', 'strike', 'pose', \"'m\", 'everything', 'go', 'slow', 'come', 'put', 'put', 'titi', 'soul', 'soul', \"'rari\", 'red', 'crown', 'stack', 'wrist', 'stay', 'froze', 'really', 'drip', 'tell', 'pound', 'way', 'home', 'love', 'world', 'concrete', 'flower', 'grow', 'heartache', 'doin', \"'\", 'know', 'weekend', 'get', 'poppin', \"'\", 'low', 'better', 'day', 'comin', \"'\", 'sure', 'world', 'wa', 'would', \"n't\", 'give', 'nobody', 'sympathy', \"'d\", 'take', 'away', 'pain', \"'d\", 'give', 'everything', 'wan', 'na', 'see', 'win', 'wan', 'na', 'see', 'world', 'mine', 'ca', \"n't\", 'lie', 'trust', 'love', 'wo', \"n't\", 'waste', 'time', 'turn', 'turn', \"i'ma\", 'make', 'say', 'loud', \"'m\", 'even', 'trippin', \"'\", 'wo', \"n't\", 'stress', 'might', 'even', 'settle', \"i'ma\", 'show', \"'m\", 'pro', \"i'ma\", 'take', 'time', 'turn', 'turn', 'baby', 'weekend', 'get', 'poppin', \"'\", 'low', 'better', 'day', 'comin', \"'\", 'sure', 'know', \"'re\", 'comin', \"'\", 'better', 'day', 'world', 'mine']\n"
     ]
    }
   ],
   "source": [
    "print(filtered_words)"
   ]
  },
  {
   "cell_type": "markdown",
   "id": "19fd732c",
   "metadata": {},
   "source": [
    "# NLP"
   ]
  },
  {
   "cell_type": "code",
   "execution_count": 182,
   "id": "edc61899",
   "metadata": {},
   "outputs": [],
   "source": [
    "lyric_list.append(cleaned_lyrics)"
   ]
  },
  {
   "cell_type": "code",
   "execution_count": 183,
   "id": "c6286875",
   "metadata": {},
   "outputs": [
    {
     "name": "stdout",
     "output_type": "stream",
     "text": [
      "[\" if this world were mine hey roman numeral seven bae drop it like it's hot if this world was mine i'd take your dreams and make 'em multiply if this world was mine i'd take your enemies in front of god introduce 'em to that light hit them strictly with that fire fahfah fahfahfah fahfah fah hey roman numeral seven bae drop it like it's hot if this world was mine i'd take your dreams and make 'em multiply if this world was mine i'd take your enemies in front of god introduce 'em to that light hit them strictly with that fire it's a vibe do your dance let 'em watch she a fan he a flop they just wanna kumbaya nah in this world concrete flowers grow heartache she only doin' what she know weekends get it poppin' on the low better days comin' for sure if this world were if it was up to me i wouldn't give these nobodies no sympathy i'd take away the pain i'd give you everything i just wanna see you win wanna see if this world were mine it go in when you out ride it do it real slow slide baby you a star strike pose when i'm when you with you with me everything goes slow come and put that put that on my on my titi soul soul 'rari red crown stack wrist stay froze really drip tell me pound if you on the way home love me in this world concrete flowers grow heartache she only doin' what she know weekends get it poppin' on the low better days comin' for sure if this world were if it was up to me i wouldn't give these nobodies no sympathy i'd take away the pain i'd give you everything i just wanna see you win wanna see if this world were mine i can't lie i trust you i love you i won't waste your time i turn it off just so i can turn you on i'ma make you say it loud i'm not even trippin' i won't stress you out i might even settle down for you i'ma show you i'm a pro i'ma take my time and turn it off just so i can turn you on baby weekends get it poppin' on the low better days comin' for sure i know you're comin' for better days if this world were mine\", \" yeah i've been tryna call i've been on my own for long enough maybe you can show me how to love maybe i'm goin' through withdrawals you don't even have to do too much you can turn me on with just a touch baby i look around and sin city's cold and empty oh no one's around to judge me oh i can't see clearly when you're gone i said ooh i'm blinded by the lights no i can't sleep until i feel your touch i said ooh i'm drowning in the night oh when i'm like this you're the one i trust hey hey hey i'm running out of time 'cause i can see the sun light up the sky so i hit the road in overdrive baby oh the city's cold and empty oh no one's around to judge me oh i can't see clearly when you're gone i said ooh i'm blinded by the lights no i can't sleep until i feel your touch i said ooh i'm drowning in the night oh when i'm like this you're the one i trust i'm just calling back to let you know back to let you know i could never say it on the phone say it on the phone will never let you go this time ooh i said ooh i'm blinded by the lights no i can't sleep until i feel your touch hey hey hey hey hey hey i said ooh i'm blinded by the lights no i can't sleep until i feel your touch\", \" do you know i count your heartbeats before you sleep i bite my fingernails to bone and now i crawl back under the stairwell to a place i call my home i really hope you enjoy the show because for me it's just a bad day you need people like me to feel maybe we're just having too much fun maybe you can't handle yourself staring at me with your lips and tongue you'll never know i don't know where i'm going to sleep tonight she said hotels are cheap and there's one down the street but oh don't you threaten me with a good time murder the moment my god i'm the serpent i'm sorry i can't see that you truly loved me maybe we're just having too much fun maybe you can't handle yourself staring at me with your lips and tongue i've been having this dream that we can fly so maybe if we never wake up we can see the sky please don't take this out on me i don't know how much longer i can take on this earth 'cause you're the only thing that's keeping me alive i've lost all touch with everything and nothing seems to work and i don't want to wait for the downset date 'cause and i'll never be the person that we both want me to be i would rather end it all tonight and if i mean anything to you i don't deserve to be alive i'm sorry but i've made up my mind maybe we're just having too much fun maybe you can't handle yourself staring at me with your lips and tongue i've been having this dream that we can fly so darling close your eyes 'cause you're about to miss everything about to miss everything about to miss everything about to miss everything\", \" up on his horse up on his horse not gonna wake up here anymore listen one time it's not the truth it's just a story i tell to you easy to say easy to do but it's not easy well maybe for you hope that you find it hope that it's good hope that you read it think that you should cuts you some slack as he sits back sizes you up plans his attack dadada drums please fab and i got it all i got it all waitin' for me down on the street but now you gotta do somethin' special for me i'm gonna say what's on my mind then i'll walk out then i'll feel fine yeah i'm under his thumb i'm on his back i will not show my teeth too quick i needed you there i needed you there but i didn't know i didn't know go alone i'll go alone we'll go alone i'll go alone back from his trip he's at the door when he gets back he's on the phone innocent eye innocent heart no it's not wrong but it's not right innocent time out on his own not gonna do that fuck i'm out of control i was just bored playin' the guitar learned all your tricks wasn't too hard it's the last one now i can promise you that i'm gonna find out the truth when i get back gone now are the old times forgotten time to hold on the railing the rubik's cube isn't solving for us old friends long forgotten the old ways at the bottom of the ocean now has swallowed the only thing that's left is us so pardon the silence that you're hearing it's turnin' into a deafening painful shameful roar\", \" shadodododo shadodododododododo shadodododo shadodododododododo shadodododo shadodododododododo shadodododo shadodododododododo oh when you walk by every night talking sweet and looking fine i get kind of hectic inside mmm baby i'm so into you darling if you only knew all the things that flow through my mind but it's just a sweet sweet fantasy baby when i close my eyes you come and take me on and on and on it's so deep in my daydreams but it's just a sweet sweet fantasy baby fantasy and i want you so badly shadodododo shadodododododododo shadodododo shadodododododododo shadodododo shadodododododododo shadodododo shadodododododododo images of rapture creep into me slowly as you're going to my head and my heart beats faster when you take me over time and time and time again but it's just a sweet sweet fantasy baby when i close my eyes you come and take me on and on and on it's so deep in my daydreams but it's just a sweet sweet fantasy baby fantasy oh oh it's just a sweet sweet fantasy baby when i close my eyes you come and take me on and on and on it's so deep in my daydreams but it's just a sweet sweet fantasy baby fantasy i'm in heaven with my boyfriend my laughing boyfriend there's no beginning and there is no end feels like i'm dreaming but i'm not sleeping oh it's just a sweet sweet fantasy baby when i close my eyes you come and take me on and on and on it's so deep in my daydreams but it's just a sweet sweet fantasy baby sweet sweet fantasy baby when i close my eyes you come and take me on and on and on it's so deep in my daydreams but it's just a sweet sweet fantasy baby sweet sweet fantasy baby sweet sweet fantasy baby\"]\n"
     ]
    }
   ],
   "source": [
    "print(lyric_list)"
   ]
  },
  {
   "cell_type": "code",
   "execution_count": 184,
   "id": "7de5e320",
   "metadata": {},
   "outputs": [
    {
     "name": "stdout",
     "output_type": "stream",
     "text": [
      "5\n"
     ]
    }
   ],
   "source": [
    "print(len(lyric_list))"
   ]
  },
  {
   "cell_type": "code",
   "execution_count": 185,
   "id": "0af60b3f",
   "metadata": {},
   "outputs": [
    {
     "name": "stdout",
     "output_type": "stream",
     "text": [
      " if this world were mine hey roman numeral seven bae drop it like it's hot if this world was mine i'd take your dreams and make 'em multiply if this world was mine i'd take your enemies in front of god introduce 'em to that light hit them strictly with that fire fahfah fahfahfah fahfah fah hey roman numeral seven bae drop it like it's hot if this world was mine i'd take your dreams and make 'em multiply if this world was mine i'd take your enemies in front of god introduce 'em to that light hit them strictly with that fire it's a vibe do your dance let 'em watch she a fan he a flop they just wanna kumbaya nah in this world concrete flowers grow heartache she only doin' what she know weekends get it poppin' on the low better days comin' for sure if this world were if it was up to me i wouldn't give these nobodies no sympathy i'd take away the pain i'd give you everything i just wanna see you win wanna see if this world were mine it go in when you out ride it do it real slow slide baby you a star strike pose when i'm when you with you with me everything goes slow come and put that put that on my on my titi soul soul 'rari red crown stack wrist stay froze really drip tell me pound if you on the way home love me in this world concrete flowers grow heartache she only doin' what she know weekends get it poppin' on the low better days comin' for sure if this world were if it was up to me i wouldn't give these nobodies no sympathy i'd take away the pain i'd give you everything i just wanna see you win wanna see if this world were mine i can't lie i trust you i love you i won't waste your time i turn it off just so i can turn you on i'ma make you say it loud i'm not even trippin' i won't stress you out i might even settle down for you i'ma show you i'm a pro i'ma take my time and turn it off just so i can turn you on baby weekends get it poppin' on the low better days comin' for sure i know you're comin' for better days if this world were mine\n"
     ]
    }
   ],
   "source": [
    "print(lyric_list[0])"
   ]
  },
  {
   "cell_type": "code",
   "execution_count": 186,
   "id": "d91a2519",
   "metadata": {},
   "outputs": [
    {
     "name": "stdout",
     "output_type": "stream",
     "text": [
      "{'neg': 0.027, 'neu': 0.667, 'pos': 0.307, 'compound': 0.9988}\n"
     ]
    }
   ],
   "source": [
    "#Sentiment Analysis\n",
    "sia = SentimentIntensityAnalyzer()\n",
    "scores = sia.polarity_scores(cleaned_lyrics)\n",
    "\n",
    "print(scores)\n",
    "# {'neg': 0.0, 'neu': 0.511, 'pos': 0.489, 'compound': 0.5719}"
   ]
  },
  {
   "cell_type": "code",
   "execution_count": 187,
   "id": "c9809eff",
   "metadata": {},
   "outputs": [],
   "source": [
    "#Determine setniment score based off compount\n",
    "\n",
    "if scores['compound'] >= 0.05:\n",
    "    sentiment = 'positive'\n",
    "elif scores['compound'] <= -0.05:\n",
    "    sentiment = 'negative'\n",
    "else:\n",
    "    sentiment = 'neutral'"
   ]
  },
  {
   "cell_type": "code",
   "execution_count": 188,
   "id": "899a3e64",
   "metadata": {},
   "outputs": [
    {
     "name": "stdout",
     "output_type": "stream",
     "text": [
      "positive\n"
     ]
    }
   ],
   "source": [
    "print(sentiment)"
   ]
  },
  {
   "cell_type": "code",
   "execution_count": 193,
   "id": "95be13cf",
   "metadata": {},
   "outputs": [],
   "source": [
    "#Identify which words are most unique\n",
    "\"\"\"tfidf_matrix needs lyrics from several songs to properly score lyrics\"\"\"\n",
    "\n",
    "# Assume `lyrics_list` is a list of cleaned lyrics from multiple songs\n",
    "vectorizer = TfidfVectorizer(stop_words='english', max_features=1000)\n",
    "tfidf_matrix = vectorizer.fit_transform(lyric_list)\n",
    "\n",
    "# Get feature names\n",
    "feature_names = vectorizer.get_feature_names_out()\n",
    "\n",
    "# Top keywords for a song:\n",
    "\n",
    "def get_top_keywords(tfidf_vector, feature_names, top_n=10):\n",
    "    vector_dense = tfidf_vector.toarray().flatten()\n",
    "    sorted_indices = np.argsort(vector_dense)[::-1]  # Descending order\n",
    "    top_keywords = [(feature_names[i], vector_dense[i]) for i in sorted_indices[:top_n] if vector_dense[i] > 0]\n",
    "    return top_keywords\n",
    "    # sorted_indices = np.argsort(tfidf_vector.toarray()[0])[::-1]\n",
    "    # top_keywords = [feature_names[i] for i in sorted_indices[:top_n]]\n",
    "    # return top_keywords"
   ]
  },
  {
   "cell_type": "code",
   "execution_count": 194,
   "id": "62ff05fb",
   "metadata": {},
   "outputs": [
    {
     "data": {
      "text/plain": [
       "[('world', 0.5510086154289483),\n",
       " ('wanna', 0.22958692309539513),\n",
       " ('em', 0.22958692309539513),\n",
       " ('days', 0.1836695384763161),\n",
       " ('better', 0.1836695384763161),\n",
       " ('comin', 0.1836695384763161),\n",
       " ('turn', 0.14818342716523641),\n",
       " ('sure', 0.13775215385723708),\n",
       " ('poppin', 0.13775215385723708),\n",
       " ('low', 0.13775215385723708)]"
      ]
     },
     "execution_count": 194,
     "metadata": {},
     "output_type": "execute_result"
    }
   ],
   "source": [
    "get_top_keywords(tfidf_matrix[0], feature_names)"
   ]
  },
  {
   "cell_type": "code",
   "execution_count": 191,
   "id": "c5076438",
   "metadata": {},
   "outputs": [
    {
     "name": "stdout",
     "output_type": "stream",
     "text": [
      "  (0, 178)\t0.04591738461907902\n",
      "  (0, 198)\t0.04591738461907902\n",
      "  (0, 226)\t0.04591738461907902\n",
      "  (0, 250)\t0.04591738461907902\n",
      "  (0, 141)\t0.04591738461907902\n",
      "  (0, 196)\t0.03075140762596771\n",
      "  (0, 145)\t0.13775215385723708\n",
      "  (0, 255)\t0.14818342716523641\n",
      "  (0, 242)\t0.043759759596395595\n",
      "  (0, 266)\t0.04591738461907902\n",
      "  (0, 273)\t0.09183476923815805\n",
      "  (0, 252)\t0.037045856791309104\n",
      "  (0, 129)\t0.04591738461907902\n",
      "  (0, 142)\t0.07409171358261821\n",
      "  (0, 108)\t0.037045856791309104\n",
      "  (0, 268)\t0.04591738461907902\n",
      "  (0, 177)\t0.04591738461907902\n",
      "  (0, 236)\t0.037045856791309104\n",
      "  (0, 51)\t0.04591738461907902\n",
      "  (0, 186)\t0.037045856791309104\n",
      "  (0, 80)\t0.04591738461907902\n",
      "  (0, 223)\t0.04591738461907902\n",
      "  (0, 277)\t0.04591738461907902\n",
      "  (0, 219)\t0.04591738461907902\n",
      "  (0, 30)\t0.04591738461907902\n",
      "  :\t:\n",
      "  (0, 128)\t0.037045856791309104\n",
      "  (0, 34)\t0.04591738461907902\n",
      "  (0, 258)\t0.04591738461907902\n",
      "  (0, 64)\t0.04591738461907902\n",
      "  (0, 66)\t0.04591738461907902\n",
      "  (0, 65)\t0.09183476923815805\n",
      "  (0, 227)\t0.09183476923815805\n",
      "  (0, 106)\t0.07409171358261821\n",
      "  (0, 130)\t0.07409171358261821\n",
      "  (0, 116)\t0.09183476923815805\n",
      "  (0, 84)\t0.07409171358261821\n",
      "  (0, 59)\t0.09183476923815805\n",
      "  (0, 153)\t0.09183476923815805\n",
      "  (0, 57)\t0.22958692309539513\n",
      "  (0, 146)\t0.13775215385723708\n",
      "  (0, 50)\t0.09183476923815805\n",
      "  (0, 111)\t0.09183476923815805\n",
      "  (0, 132)\t0.051738107090939636\n",
      "  (0, 52)\t0.09183476923815805\n",
      "  (0, 7)\t0.09183476923815805\n",
      "  (0, 199)\t0.09183476923815805\n",
      "  (0, 160)\t0.09183476923815805\n",
      "  (0, 192)\t0.09183476923815805\n",
      "  (0, 105)\t0.07409171358261821\n",
      "  (0, 275)\t0.5510086154289483\n"
     ]
    }
   ],
   "source": [
    "print(tfidf_matrix[0])"
   ]
  },
  {
   "cell_type": "code",
   "execution_count": 192,
   "id": "660338b8",
   "metadata": {},
   "outputs": [
    {
     "name": "stdout",
     "output_type": "stream",
     "text": [
      "['alive' 'anymore' 'attack' 'away' 'baby' 'bad' 'badly' 'bae' 'beats'\n",
      " 'beginning' 'better' 'bite' 'blinded' 'bone' 'bored' 'boyfriend'\n",
      " 'calling' 'cause' 'cheap' 'city' 'clearly' 'close' 'cold' 'come' 'comin'\n",
      " 'concrete' 'control' 'count' 'crawl' 'creep' 'crown' 'cube' 'cuts'\n",
      " 'dadada' 'dance' 'darling' 'date' 'day' 'daydreams' 'days' 'deafening'\n",
      " 'deep' 'deserve' 'didn' 'doin' 'don' 'door' 'downset' 'dream' 'dreaming'\n",
      " 'dreams' 'drip' 'drop' 'drowning' 'drums' 'earth' 'easy' 'em' 'end'\n",
      " 'enemies' 'enjoy' 'eye' 'eyes' 'fab' 'fah' 'fahfah' 'fahfahfah' 'fan'\n",
      " 'fantasy' 'faster' 'feel' 'feels' 'fine' 'fingernails' 'flop' 'flow'\n",
      " 'flowers' 'fly' 'forgotten' 'friends' 'froze' 'fuck' 'fun' 'gets' 'god'\n",
      " 'goes' 'goin' 'going' 'gone' 'gonna' 'good' 'got' 'gotta' 'grow' 'guitar'\n",
      " 'handle' 'hard' 'having' 'head' 'hearing' 'heart' 'heartache'\n",
      " 'heartbeats' 'heaven' 'hectic' 'hey' 'hit' 'hold' 'home' 'hope' 'horse'\n",
      " 'hot' 'hotels' 'images' 'innocent' 'inside' 'introduce' 'isn' 'judge'\n",
      " 'just' 'keeping' 'kind' 'knew' 'know' 'kumbaya' 'laughing' 'learned'\n",
      " 'left' 'let' 'lie' 'light' 'lights' 'like' 'lips' 'listen' 'll' 'long'\n",
      " 'longer' 'look' 'looking' 'lost' 'loud' 'love' 'loved' 'low' 'ma' 'make'\n",
      " 'maybe' 'mean' 'mind' 'miss' 'mmm' 'moment' 'multiply' 'murder' 'nah'\n",
      " 'need' 'needed' 'night' 'nobodies' 'numeral' 'ocean' 'oh' 'old' 'ooh'\n",
      " 'overdrive' 'pain' 'painful' 'pardon' 'people' 'person' 'phone' 'place'\n",
      " 'plans' 'playin' 'poppin' 'pose' 'pound' 'pro' 'promise' 'quick'\n",
      " 'railing' 'rapture' 'rari' 'read' 'real' 'really' 'red' 'ride' 'right'\n",
      " 'road' 'roar' 'roman' 'rubik' 'running' 'said' 'say' 'serpent' 'settle'\n",
      " 'seven' 'shadodododo' 'shadodododododododo' 'shameful' 'silence' 'sin'\n",
      " 'sits' 'sizes' 'sky' 'slack' 'sleep' 'sleeping' 'slide' 'slow' 'slowly'\n",
      " 'solving' 'somethin' 'sorry' 'soul' 'special' 'stack' 'stairwell' 'star'\n",
      " 'staring' 'stay' 'story' 'street' 'stress' 'strictly' 'strike' 'sun'\n",
      " 'sure' 'swallowed' 'sweet' 'sympathy' 'talking' 'teeth' 'tell' 'thing'\n",
      " 'things' 'think' 'threaten' 'thumb' 'time' 'times' 'titi' 'tongue'\n",
      " 'tonight' 'touch' 'tricks' 'trip' 'trippin' 'truly' 'trust' 'truth'\n",
      " 'tryna' 'turn' 'turnin' 've' 'vibe' 'wait' 'waitin' 'wake' 'walk' 'wanna'\n",
      " 'want' 'wasn' 'waste' 'watch' 'way' 'ways' 'weekends' 'win' 'withdrawals'\n",
      " 'won' 'work' 'world' 'wouldn' 'wrist' 'wrong' 'yeah']\n"
     ]
    }
   ],
   "source": [
    "print(feature_names)"
   ]
  },
  {
   "cell_type": "code",
   "execution_count": null,
   "id": "a6206e31",
   "metadata": {},
   "outputs": [],
   "source": []
  }
 ],
 "metadata": {
  "kernelspec": {
   "display_name": "Python 3",
   "language": "python",
   "name": "python3"
  },
  "language_info": {
   "codemirror_mode": {
    "name": "ipython",
    "version": 3
   },
   "file_extension": ".py",
   "mimetype": "text/x-python",
   "name": "python",
   "nbconvert_exporter": "python",
   "pygments_lexer": "ipython3",
   "version": "3.12.0"
  }
 },
 "nbformat": 4,
 "nbformat_minor": 5
}
