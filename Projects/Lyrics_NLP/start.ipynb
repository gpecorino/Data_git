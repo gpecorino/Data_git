{
 "cells": [
  {
   "cell_type": "code",
   "execution_count": 37,
   "id": "db10af5e",
   "metadata": {},
   "outputs": [],
   "source": [
    "#libraries\n",
    "from bs4 import BeautifulSoup, element\n",
    "import urllib\n",
    "import requests\n",
    "import pandas as pd\n",
    "import numpy as np\n",
    "import lyricsgenius\n",
    "import re\n"
   ]
  },
  {
   "cell_type": "code",
   "execution_count": 38,
   "id": "eac73db4",
   "metadata": {},
   "outputs": [
    {
     "name": "stdout",
     "output_type": "stream",
     "text": [
      "Searching for \"Get You\" by Daniel Cesar...\n",
      "Done.\n",
      "118 ContributorsTranslationsDeutschGet You Lyrics“Get You” sees Daniel Caesar reflecting on his life and past relationships with assistance from Colombian singer, Kali Uchis.\n",
      "\n",
      "In an interview with Billboard, Daniel explains:\n",
      "\n",
      "‘Get You' is a song of praise… Read More [Verse 1: Daniel Caesar]\n",
      "Through drought and famine, natural disasters\n",
      "My baby has been around for me\n",
      "Kingdoms have fallen, angels be callin'\n",
      "None of that could ever make me leave, yeah\n",
      "\n",
      "[Pre-Chorus: Daniel Caesar]\n",
      "Every time I look into your eyes, I see it\n",
      "You're all I need\n",
      "Every time I get a bit inside, I feel it\n",
      "\n",
      "[Chorus: Daniel Caesar]\n",
      "Ooh, who would've thought I'd get you?\n",
      "Ooh, who would've thought I'd get you?\n",
      "\n",
      "[Verse 2: Daniel Caesar]\n",
      "And when we're making love, uh\n",
      "Your cries, they can be heard from far and wide\n",
      "It's only the two of us\n",
      "Everything I need between those thighs\n",
      "\n",
      "[Pre-Chorus: Daniel Caesar]\n",
      "Every time I look into your eyes, I see it\n",
      "You're all I need\n",
      "Every time I get a bit inside, I feel it\n",
      "\n",
      "\n",
      "[Chorus: Daniel Caesar]\n",
      "Ooh, who would've thought I'd get you?\n",
      "Oh yeah, oh yeah, babe\n",
      "Ooh, who would've thought I'd get you?\n",
      "\n",
      "[Verse 3: Kali Uchis & Daniel Caesar]\n",
      "And I'll take some time\n",
      "Just to be thankful\n",
      "That I had days full of you, you\n",
      "Before it winds down into (Got someone you like, feel something that's right)\n",
      "The memories, it's all just memories (Somebody, just tell somebody)\n",
      "Now\n",
      "\n",
      "[Bridge: Daniel Caesar]\n",
      "(If you've got someone you like)\n",
      "Don't you love when I come around? (Feel something that's right)\n",
      "(Somebody, just tell somebody) Build you up then I take you down\n",
      "(If you've got someone you like)\n",
      "Don't you love when I come around? (Feel something that's right)\n",
      "(Somebody, just tell somebody) Build you up then I take—\n",
      "\n",
      "[Chorus: Daniel Caesar]\n",
      "Ooh, who would've thought I'd get you?\n",
      "Oh yeah, oh yeah, babe\n",
      "Ooh, who would've thought I'd get you?\n",
      "\n",
      "\n",
      "[Outro: Kali Uchis]\n",
      "This feels like summer\n",
      "Boy, you make me feel so alive\n",
      "Just be my lover\n",
      "Boy, you'll lead me to paradise\n"
     ]
    },
    {
     "name": "stderr",
     "output_type": "stream",
     "text": [
      "C:\\Users\\Monado\\AppData\\Roaming\\Python\\Python312\\site-packages\\lyricsgenius\\genius.py:468: FutureWarning: The constructor signature will change in a future version. It will change to Song(lyrics, body) instead of Song(client, json_dict, lyrics).\n",
      "  song = Song(self, song_info, lyrics)\n"
     ]
    }
   ],
   "source": [
    "genius = lyricsgenius.Genius(\"rPVs-pFT7GhBfTxhpu-ISnNCcvCsbRt8wIwhkkEXovrADgSBQfkndQW7Ge22R5Ts\")\n",
    "song = genius.search_song(\"Get You\", \"Daniel Cesar\")\n",
    "lyrics = song.lyrics\n",
    "print(lyrics)"
   ]
  },
  {
   "cell_type": "code",
   "execution_count": 43,
   "id": "4342dbe8",
   "metadata": {},
   "outputs": [],
   "source": [
    "#Data Cleaning/Processing\n",
    "\n",
    "def clean_lyrics(raw_lyrics):\n",
    "    #Get rid of information shoved at beginning of string leaving only the lyrics of the song\n",
    "    starter = ']' #This always finds the first closed bracket which is always the closing bracket for '[Intro]'\n",
    "    position = raw_lyrics.find(starter)\n",
    "    lyrics = raw_lyrics[position+1:]\n",
    "\n",
    "    # Remove section headers like [Chorus], [Verse 1], etc.\n",
    "    lyrics = re.sub(r\"\\[.*?\\]\", \"\", lyrics)\n",
    "\n",
    "    # Remove extra whitespace, newlines\n",
    "    lyrics = re.sub(r\"\\n+\", \" \", lyrics)\n",
    "    lyrics = re.sub(r\"\\s+\", \" \", lyrics)\n",
    "\n",
    "    # Optionally remove punctuation\n",
    "    lyrics = re.sub(r\"[^\\w\\s']\", \"\", lyrics)\n",
    "\n",
    "    # Lowercase\n",
    "    lyrics = lyrics.lower()\n",
    "\n",
    "    return lyrics\n"
   ]
  },
  {
   "cell_type": "code",
   "execution_count": 44,
   "id": "301066cd",
   "metadata": {},
   "outputs": [
    {
     "name": "stdout",
     "output_type": "stream",
     "text": [
      " through drought and famine natural disasters my baby has been around for me kingdoms have fallen angels be callin' none of that could ever make me leave yeah every time i look into your eyes i see it you're all i need every time i get a bit inside i feel it ooh who would've thought i'd get you ooh who would've thought i'd get you and when we're making love uh your cries they can be heard from far and wide it's only the two of us everything i need between those thighs every time i look into your eyes i see it you're all i need every time i get a bit inside i feel it ooh who would've thought i'd get you oh yeah oh yeah babe ooh who would've thought i'd get you and i'll take some time just to be thankful that i had days full of you you before it winds down into got someone you like feel something that's right the memories it's all just memories somebody just tell somebody now if you've got someone you like don't you love when i come around feel something that's right somebody just tell somebody build you up then i take you down if you've got someone you like don't you love when i come around feel something that's right somebody just tell somebody build you up then i take ooh who would've thought i'd get you oh yeah oh yeah babe ooh who would've thought i'd get you this feels like summer boy you make me feel so alive just be my lover boy you'll lead me to paradise\n"
     ]
    }
   ],
   "source": [
    "cleaned_lyrics = clean_lyrics(lyrics)\n",
    "print(cleaned_lyrics)"
   ]
  },
  {
   "cell_type": "code",
   "execution_count": null,
   "id": "3698666b",
   "metadata": {},
   "outputs": [
    {
     "name": "stdout",
     "output_type": "stream",
     "text": [
      "yeah i've been tryna call i've been on my own for long enough maybe you can show me how to love maybe i'm goin' through withdrawals you don't even have to do too much you can turn me on with just a touch baby i look around and sin city's cold and empty oh no one's around to judge me oh i can't see clearly when you're gone i said ooh i'm blinded by the lights no i can't sleep until i feel your touch i said ooh i'm drowning in the night oh when i'm like this you're the one i trust hey hey hey i'm running out of time 'cause i can see the sun light up the sky so i hit the road in overdrive baby oh the city's cold and empty oh no one's around to judge me oh i can't see clearly when you're gone i said ooh i'm blinded by the lights no i can't sleep until i feel your touch i said ooh i'm drowning in the night oh when i'm like this you're the one i trust i'm just calling back to let you know back to let you know i could never say it on the phone say it on the phone will never let you go this time ooh i said ooh i'm blinded by the lights no i can't sleep until i feel your touch hey hey hey hey hey hey i said ooh i'm blinded by the lights no i can't sleep until i feel your touch\n"
     ]
    }
   ],
   "source": []
  },
  {
   "cell_type": "code",
   "execution_count": null,
   "id": "bc740fdc",
   "metadata": {},
   "outputs": [],
   "source": []
  },
  {
   "cell_type": "code",
   "execution_count": null,
   "id": "435334b4",
   "metadata": {},
   "outputs": [],
   "source": []
  },
  {
   "cell_type": "code",
   "execution_count": null,
   "id": "412c60d3",
   "metadata": {},
   "outputs": [],
   "source": []
  }
 ],
 "metadata": {
  "kernelspec": {
   "display_name": "Python 3",
   "language": "python",
   "name": "python3"
  },
  "language_info": {
   "codemirror_mode": {
    "name": "ipython",
    "version": 3
   },
   "file_extension": ".py",
   "mimetype": "text/x-python",
   "name": "python",
   "nbconvert_exporter": "python",
   "pygments_lexer": "ipython3",
   "version": "3.12.0"
  }
 },
 "nbformat": 4,
 "nbformat_minor": 5
}
